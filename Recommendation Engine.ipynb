{
 "cells": [
  {
   "cell_type": "markdown",
   "id": "fe00b41d",
   "metadata": {},
   "source": [
    "### Q) Build a recommender system with the given data using UBCF.\n",
    "\n",
    "This dataset is related to the video gaming industry and a survey was conducted to build a \n",
    "recommendation engine so that the store can improve the sales of its gaming DVDs. Snapshot of the dataset is given below. Build a Recommendation Engine and suggest top selling DVDs to the store customers.\n"
   ]
  },
  {
   "cell_type": "code",
   "execution_count": 1,
   "id": "0967219b",
   "metadata": {},
   "outputs": [],
   "source": [
    "import pandas as pd"
   ]
  },
  {
   "cell_type": "code",
   "execution_count": 2,
   "id": "5c6b16c7",
   "metadata": {},
   "outputs": [],
   "source": [
    "games=pd.read_csv(r\"C:\\Users\\tarun\\Documents\\taruns imp\\Data science material\\assignments\\SETS\\Recommendation engines\\game.csv\")"
   ]
  },
  {
   "cell_type": "code",
   "execution_count": 3,
   "id": "87150b5e",
   "metadata": {},
   "outputs": [],
   "source": [
    "from sklearn.feature_extraction.text import TfidfVectorizer"
   ]
  },
  {
   "cell_type": "code",
   "execution_count": 4,
   "id": "00e56126",
   "metadata": {},
   "outputs": [],
   "source": [
    "tfidf=TfidfVectorizer(stop_words=\"english\")"
   ]
  },
  {
   "cell_type": "code",
   "execution_count": 5,
   "id": "a5388f73",
   "metadata": {},
   "outputs": [
    {
     "data": {
      "text/plain": [
       "userId    0\n",
       "game      0\n",
       "rating    0\n",
       "dtype: int64"
      ]
     },
     "execution_count": 5,
     "metadata": {},
     "output_type": "execute_result"
    }
   ],
   "source": [
    "games.isnull().sum()"
   ]
  },
  {
   "cell_type": "code",
   "execution_count": 6,
   "id": "73fa5ce5",
   "metadata": {},
   "outputs": [],
   "source": [
    "tfidf_matrix=tfidf.fit_transform(games.game)"
   ]
  },
  {
   "cell_type": "code",
   "execution_count": 7,
   "id": "635de08c",
   "metadata": {},
   "outputs": [
    {
     "data": {
      "text/plain": [
       "(5000, 3068)"
      ]
     },
     "execution_count": 7,
     "metadata": {},
     "output_type": "execute_result"
    }
   ],
   "source": [
    "tfidf_matrix.shape"
   ]
  },
  {
   "cell_type": "code",
   "execution_count": 8,
   "id": "ba3995c6",
   "metadata": {},
   "outputs": [],
   "source": [
    "from sklearn.metrics.pairwise import linear_kernel"
   ]
  },
  {
   "cell_type": "code",
   "execution_count": 9,
   "id": "ae1d0957",
   "metadata": {},
   "outputs": [],
   "source": [
    "cosine_sim_matrix = linear_kernel(tfidf_matrix, tfidf_matrix)"
   ]
  },
  {
   "cell_type": "code",
   "execution_count": 10,
   "id": "8a90da8a",
   "metadata": {},
   "outputs": [],
   "source": [
    "games_index=pd.Series(games.index,index=games['game']).drop_duplicates()"
   ]
  },
  {
   "cell_type": "code",
   "execution_count": 11,
   "id": "f661fc7d",
   "metadata": {},
   "outputs": [],
   "source": [
    "games_id=games_index[\"Half-Life\"]"
   ]
  },
  {
   "cell_type": "code",
   "execution_count": 12,
   "id": "fef390d1",
   "metadata": {},
   "outputs": [
    {
     "data": {
      "text/plain": [
       "game\n",
       "Half-Life      34\n",
       "Half-Life    1072\n",
       "dtype: int64"
      ]
     },
     "execution_count": 12,
     "metadata": {},
     "output_type": "execute_result"
    }
   ],
   "source": [
    "games_id"
   ]
  },
  {
   "cell_type": "code",
   "execution_count": 32,
   "id": "a775fe23",
   "metadata": {},
   "outputs": [],
   "source": [
    "def get_recommendations(game,topN):\n",
    "    #topN = 10\n",
    "    games_id=games_index[game]"
   ]
  },
  {
   "cell_type": "code",
   "execution_count": 14,
   "id": "57e3c7c6",
   "metadata": {},
   "outputs": [],
   "source": [
    "cosine_scores=list(enumerate(cosine_sim_matrix[games_id]))"
   ]
  },
  {
   "cell_type": "code",
   "execution_count": 15,
   "id": "83d04f32",
   "metadata": {},
   "outputs": [],
   "source": [
    "cosine_scores_N = cosine_scores[0: 10+1]\n",
    "    "
   ]
  },
  {
   "cell_type": "code",
   "execution_count": 16,
   "id": "c82496cb",
   "metadata": {},
   "outputs": [],
   "source": [
    "game_idx=[i[0]for i in cosine_scores_N]"
   ]
  },
  {
   "cell_type": "code",
   "execution_count": 28,
   "id": "b3e80a47",
   "metadata": {},
   "outputs": [],
   "source": [
    "game_scores=[i[1]for i in cosine_scores_N]"
   ]
  },
  {
   "cell_type": "code",
   "execution_count": 29,
   "id": "765073eb",
   "metadata": {},
   "outputs": [
    {
     "name": "stdout",
     "output_type": "stream",
     "text": [
      "   index games                                             rating  \\\n",
      "0      0   NaN  [0.0, 0.0, 0.0, 0.0, 0.0, 0.0, 0.0, 0.0, 0.0, ...   \n",
      "1      1   NaN  [0.0, 0.0, 0.0, 0.0, 0.0, 0.0, 0.0, 0.0, 0.0, ...   \n",
      "\n",
      "                                   game  \n",
      "0  The Legend of Zelda: Ocarina of Time  \n",
      "1              Tony Hawk's Pro Skater 2  \n"
     ]
    }
   ],
   "source": [
    "game_similar_show=pd.DataFrame(columns=[\"games\",\"rating\"])\n",
    "game_similar_show[\"game\"]=games.loc[game_idx,\"game\"]\n",
    "game_similar_show[\"rating\"]=game_scores\n",
    "game_similar_show.reset_index(inplace=True)\n",
    "print(game_similar_show)"
   ]
  },
  {
   "cell_type": "code",
   "execution_count": 33,
   "id": "07359b42",
   "metadata": {},
   "outputs": [],
   "source": [
    "get_recommendations(\"The Orange Box\", topN = 10)"
   ]
  },
  {
   "cell_type": "code",
   "execution_count": 35,
   "id": "9d8e7f7e",
   "metadata": {},
   "outputs": [
    {
     "data": {
      "text/plain": [
       "game\n",
       "The Orange Box     27\n",
       "The Orange Box     28\n",
       "The Orange Box    633\n",
       "dtype: int64"
      ]
     },
     "execution_count": 35,
     "metadata": {},
     "output_type": "execute_result"
    }
   ],
   "source": [
    "games_index[\"The Orange Box\"]"
   ]
  },
  {
   "cell_type": "markdown",
   "id": "edf25fc9",
   "metadata": {},
   "source": [
    "### The Entertainment Company, which is an online movie watching platform, wants to improve its collection of movies and showcase those that are highly rated and recommend those movies to its customer by their movie watching footprint. For this, the company has collected the data and shared it with you to provide some analytical insights and also to come up with a recommendation algorithm so that it can automate its process for effective recommendations. The ratings are between -9 and +9."
   ]
  },
  {
   "cell_type": "code",
   "execution_count": 1,
   "id": "f5034eb5",
   "metadata": {},
   "outputs": [],
   "source": [
    "import pandas as pd"
   ]
  },
  {
   "cell_type": "code",
   "execution_count": 2,
   "id": "2311cc54",
   "metadata": {},
   "outputs": [],
   "source": [
    "ent=pd.read_csv(r\"C:\\Users\\tarun\\Documents\\taruns imp\\Data science material\\assignments\\SETS\\Recommendation engines\\Entertainment.csv\")"
   ]
  },
  {
   "cell_type": "code",
   "execution_count": 3,
   "id": "5b5cf464",
   "metadata": {},
   "outputs": [
    {
     "data": {
      "text/plain": [
       "(51, 4)"
      ]
     },
     "execution_count": 3,
     "metadata": {},
     "output_type": "execute_result"
    }
   ],
   "source": [
    "ent.shape"
   ]
  },
  {
   "cell_type": "code",
   "execution_count": 4,
   "id": "59c92ee7",
   "metadata": {},
   "outputs": [
    {
     "data": {
      "text/plain": [
       "0                                      Toy Story (1995)\n",
       "1                                        Jumanji (1995)\n",
       "2                               Grumpier Old Men (1995)\n",
       "3                              Waiting to Exhale (1995)\n",
       "4                    Father of the Bride Part II (1995)\n",
       "5                                           Heat (1995)\n",
       "6                                        Sabrina (1995)\n",
       "7                                   Tom and Huck (1995)\n",
       "8                                   Sudden Death (1995)\n",
       "9                                      GoldenEye (1995)\n",
       "10                       American President, The (1995)\n",
       "11                   Dracula: Dead and Loving It (1995)\n",
       "12                                         Balto (1995)\n",
       "13                                         Nixon (1995)\n",
       "14                              Cutthroat Island (1995)\n",
       "15                                        Casino (1995)\n",
       "16                         Sense and Sensibility (1995)\n",
       "17                                    Four Rooms (1995)\n",
       "18                Ace Ventura: When Nature Calls (1995)\n",
       "19                                   Money Train (1995)\n",
       "20                                    Get Shorty (1995)\n",
       "21                                       Copycat (1995)\n",
       "22                                     Assassins (1995)\n",
       "23                                        Powder (1995)\n",
       "24                             Leaving Las Vegas (1995)\n",
       "25                                       Othello (1995)\n",
       "26                                  Now and Then (1995)\n",
       "27                                    Persuasion (1995)\n",
       "28                         City of Lost Children (1995)\n",
       "29    Shanghai Triad (Yao a yao yao dao waipo qiao) ...\n",
       "30                               Dangerous Minds (1995)\n",
       "31            Twelve Monkeys (a.k.a. 12 Monkeys) (1995)\n",
       "32                                          Babe (1995)\n",
       "33                              Dead Man Walking (1995)\n",
       "34                                  It Takes Two (1995)\n",
       "35                                      Clueless (1995)\n",
       "36                      Cry, the Beloved Country (1995)\n",
       "37                                   Richard III (1995)\n",
       "38                               Dead Presidents (1995)\n",
       "39                                   Restoration (1995)\n",
       "40                                 Mortal Kombat (1995)\n",
       "41                                    To Die For (1995)\n",
       "42                 How to Make an American Quilt (1995)\n",
       "43                          Seven (a.k.a. Se7en) (1995)\n",
       "44                                    Pocahontas (1995)\n",
       "45                         When Night Is Falling (1995)\n",
       "46                           Usual Suspects, The (1995)\n",
       "47                              Mighty Aphrodite (1995)\n",
       "48                                      Lamerica (1994)\n",
       "49                                Big Green, The (1995)\n",
       "50                                       Georgia (1995)\n",
       "Name: Titles, dtype: object"
      ]
     },
     "execution_count": 4,
     "metadata": {},
     "output_type": "execute_result"
    }
   ],
   "source": [
    "ent.Titles"
   ]
  },
  {
   "cell_type": "code",
   "execution_count": 5,
   "id": "c6d7a4b4",
   "metadata": {},
   "outputs": [],
   "source": [
    "from sklearn.feature_extraction.text import TfidfVectorizer"
   ]
  },
  {
   "cell_type": "code",
   "execution_count": 6,
   "id": "b3739f9c",
   "metadata": {},
   "outputs": [],
   "source": [
    "tfidf=TfidfVectorizer(stop_words=\"english\")"
   ]
  },
  {
   "cell_type": "code",
   "execution_count": 7,
   "id": "0788baec",
   "metadata": {},
   "outputs": [
    {
     "data": {
      "text/plain": [
       "Id          0\n",
       "Titles      0\n",
       "Category    0\n",
       "Reviews     0\n",
       "dtype: int64"
      ]
     },
     "execution_count": 7,
     "metadata": {},
     "output_type": "execute_result"
    }
   ],
   "source": [
    "ent.isnull().sum()"
   ]
  },
  {
   "cell_type": "code",
   "execution_count": 8,
   "id": "16ed650a",
   "metadata": {},
   "outputs": [],
   "source": [
    "tfidf_matrix=tfidf.fit_transform(ent.Titles)"
   ]
  },
  {
   "cell_type": "code",
   "execution_count": 9,
   "id": "dbf049b1",
   "metadata": {
    "scrolled": true
   },
   "outputs": [
    {
     "data": {
      "text/plain": [
       "(51, 90)"
      ]
     },
     "execution_count": 9,
     "metadata": {},
     "output_type": "execute_result"
    }
   ],
   "source": [
    "tfidf_matrix.shape"
   ]
  },
  {
   "cell_type": "code",
   "execution_count": 10,
   "id": "38335de3",
   "metadata": {},
   "outputs": [],
   "source": [
    "from sklearn.metrics.pairwise import linear_kernel"
   ]
  },
  {
   "cell_type": "code",
   "execution_count": 11,
   "id": "387e214c",
   "metadata": {},
   "outputs": [],
   "source": [
    "cosine_sim_matrix=linear_kernel(tfidf_matrix,tfidf_matrix)"
   ]
  },
  {
   "cell_type": "code",
   "execution_count": 14,
   "id": "012ffd84",
   "metadata": {},
   "outputs": [],
   "source": [
    "enter_index=pd.Series(ent.index,index=ent['Titles']).drop_duplicates()"
   ]
  },
  {
   "cell_type": "code",
   "execution_count": 15,
   "id": "4302e984",
   "metadata": {},
   "outputs": [
    {
     "data": {
      "text/plain": [
       "13"
      ]
     },
     "execution_count": 15,
     "metadata": {},
     "output_type": "execute_result"
    }
   ],
   "source": [
    "enter_id=enter_index['Nixon (1995)']\n",
    "enter_id"
   ]
  },
  {
   "cell_type": "code",
   "execution_count": 16,
   "id": "f7d3daea",
   "metadata": {},
   "outputs": [],
   "source": [
    "def get_recommendations(Name, topN):    \n",
    "    \n",
    "    enter_id = enter_index[0]\n",
    "    "
   ]
  },
  {
   "cell_type": "code",
   "execution_count": 21,
   "id": "54b95d9f",
   "metadata": {},
   "outputs": [],
   "source": [
    "topN = 10"
   ]
  },
  {
   "cell_type": "code",
   "execution_count": 17,
   "id": "d726eb7f",
   "metadata": {},
   "outputs": [],
   "source": [
    "cosine_scores = list(enumerate(cosine_sim_matrix[enter_id]))"
   ]
  },
  {
   "cell_type": "code",
   "execution_count": 19,
   "id": "d92262c6",
   "metadata": {},
   "outputs": [],
   "source": [
    "cosine_scores=sorted(cosine_scores,key=lambda x:x[1],reverse=True)"
   ]
  },
  {
   "cell_type": "code",
   "execution_count": 22,
   "id": "cbf05012",
   "metadata": {},
   "outputs": [],
   "source": [
    "cosine_scores_N=cosine_scores[0:topN+1]"
   ]
  },
  {
   "cell_type": "code",
   "execution_count": 25,
   "id": "e74b1f36",
   "metadata": {},
   "outputs": [],
   "source": [
    "enter_idx  =  [i[0] for i in cosine_scores_N]"
   ]
  },
  {
   "cell_type": "code",
   "execution_count": 26,
   "id": "16860abc",
   "metadata": {},
   "outputs": [],
   "source": [
    "enter_scores =  [i[1] for i in cosine_scores_N]\n"
   ]
  },
  {
   "cell_type": "code",
   "execution_count": 29,
   "id": "366fb950",
   "metadata": {},
   "outputs": [
    {
     "name": "stdout",
     "output_type": "stream",
     "text": [
      "    index               Titles   Reviews\n",
      "0      13         Nixon (1995)  1.000000\n",
      "1      26  Now and Then (1995)  0.232828\n",
      "2       1       Jumanji (1995)  0.054209\n",
      "3       5          Heat (1995)  0.054209\n",
      "4       6       Sabrina (1995)  0.054209\n",
      "5       9     GoldenEye (1995)  0.054209\n",
      "6      12         Balto (1995)  0.054209\n",
      "7      15        Casino (1995)  0.054209\n",
      "8      17    Four Rooms (1995)  0.054209\n",
      "9      20    Get Shorty (1995)  0.054209\n",
      "10     21       Copycat (1995)  0.054209\n"
     ]
    }
   ],
   "source": [
    "enter_similar_show = pd.DataFrame(columns=[\"Titles\", \"Reviews\"])\n",
    "enter_similar_show[\"Titles\"] = ent.loc[enter_idx, \"Titles\"]\n",
    "enter_similar_show[\"Reviews\"] = enter_scores\n",
    "enter_similar_show.reset_index(inplace = True)  \n",
    "print (enter_similar_show)"
   ]
  },
  {
   "cell_type": "code",
   "execution_count": 31,
   "id": "c21593c2",
   "metadata": {},
   "outputs": [
    {
     "data": {
      "text/plain": [
       "6"
      ]
     },
     "execution_count": 31,
     "metadata": {},
     "output_type": "execute_result"
    }
   ],
   "source": [
    "get_recommendations(\"Sabrina (1995)\", topN = 10)\n",
    "enter_index[\"Sabrina (1995)\"]"
   ]
  },
  {
   "cell_type": "code",
   "execution_count": null,
   "id": "5bbd52e7",
   "metadata": {},
   "outputs": [],
   "source": []
  }
 ],
 "metadata": {
  "kernelspec": {
   "display_name": "Python 3 (ipykernel)",
   "language": "python",
   "name": "python3"
  },
  "language_info": {
   "codemirror_mode": {
    "name": "ipython",
    "version": 3
   },
   "file_extension": ".py",
   "mimetype": "text/x-python",
   "name": "python",
   "nbconvert_exporter": "python",
   "pygments_lexer": "ipython3",
   "version": "3.9.7"
  }
 },
 "nbformat": 4,
 "nbformat_minor": 5
}
