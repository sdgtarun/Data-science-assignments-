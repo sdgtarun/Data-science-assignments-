{
 "cells": [
  {
   "cell_type": "code",
   "execution_count": null,
   "id": "b91246dd",
   "metadata": {},
   "outputs": [],
   "source": [
    "#Problem Statement:- \n",
    "#1.\tHere is the time series data [110,125,133,146,158,172,187,196,210]. \n",
    "#Build RNN/LSTM model to predict the next 10 digits.\n",
    "#Answer:-\n",
    "import pandas as pd\n",
    "import numpy as np\n",
    "from numpy import array\n",
    "from keras.models import Sequential\n",
    "from keras.layers import LSTM\n",
    "from keras.layers import Dense\n",
    "from keras.layers import Bidirectional\n",
    "\n",
    "#split univariate sequence \n",
    "def split_sequence(sequence, n_steps):\n",
    "    x,y = list(), list()\n",
    "    for i in range(len(sequence)):\n",
    "        #fine the end of this pattern \n",
    "        end_ix = i+ n_steps\n",
    "        #check if we are beyond the sequence\n",
    "        if end_ix>len(sequence)-1:\n",
    "           break\n",
    "    #gather input and output parts of the pattern \n",
    "    seq_x, seq_y = sequence[i:end_ix], sequence[end_ix]\n",
    "    x.append(seq_x)\n",
    "    y.append(seq_y)\n",
    "    return array(x), array(y)\n",
    "\n",
    "raw_seq = [110,125,133,146,158,172,187,196,210]\n",
    "yhat = []\n",
    "\n",
    "for i in range(0,10):\n",
    "    L = len(raw_seq)\n",
    "    \n",
    "    n_stpes = 3\n",
    "x,y = split_sequence(raw_seq, n_stpes)\n",
    "n_feature = 1    \n",
    "x = x.reshape((x.shape[0], x.shape[1], n_feature))\n",
    "model = Sequential()\n",
    "model.add(Bidirectional(LSTM(50, activation='relu'),input_shape = (n_stpes, n_feature)))\n",
    "model.add(Dense(1))\n",
    "model.compile(optimizer='adam',loss='mse')\n",
    "model.fit(x,y, epochs=200, verbose=0)\n",
    "x_input = array([raw_seq[L-3],raw_seq[L-2], raw_seq[L-1]])\n",
    "x_input = x_input.reshape((1, n_stpes, n_feature))\n",
    "yhat = model.predict(x_input, verbose=0)\n",
    "yhat = np.array(yhat).astype(\"int\")\n",
    "new = yhat\n",
    "raw_seq.extend(new[0])\n",
    "print(\"concatenated list using list.extend():\" + str(raw_seq))"
   ]
  }
 ],
 "metadata": {
  "kernelspec": {
   "display_name": "Python 3 (ipykernel)",
   "language": "python",
   "name": "python3"
  },
  "language_info": {
   "codemirror_mode": {
    "name": "ipython",
    "version": 3
   },
   "file_extension": ".py",
   "mimetype": "text/x-python",
   "name": "python",
   "nbconvert_exporter": "python",
   "pygments_lexer": "ipython3",
   "version": "3.9.7"
  }
 },
 "nbformat": 4,
 "nbformat_minor": 5
}
