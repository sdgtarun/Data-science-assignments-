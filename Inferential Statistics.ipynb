{
 "cells": [
  {
   "cell_type": "markdown",
   "id": "819af802",
   "metadata": {},
   "source": [
    "# Inferential Statistics"
   ]
  },
  {
   "cell_type": "markdown",
   "id": "a61dc70f",
   "metadata": {},
   "source": [
    "### Q1) Three Coins are tossed, find the probability that two heads and one tail are obtained?"
   ]
  },
  {
   "cell_type": "markdown",
   "id": "c6f44bfb",
   "metadata": {},
   "source": [
    "**Ans:** Possible events : HHH,HHT,HTH,HTT,THH,THT,TTH,TTT <br>\n",
    "Two heads and one tail : 3 <br>\n",
    "Total Number: 8 <br>\n",
    "probability that two heads and one tail: 3/8 = 0.375 = 37.5% <br>"
   ]
  },
  {
   "cell_type": "markdown",
   "id": "5b680a58",
   "metadata": {},
   "source": [
    "### Q2) Two Dice are rolled, find the probability that sum is\n",
    "a)\tEqual to 1 <br>\n",
    "b)\tLess than or equal to 4 <br>\n",
    "c)\tSum is divisible by 2 and 3"
   ]
  },
  {
   "cell_type": "markdown",
   "id": "150c445e",
   "metadata": {},
   "source": [
    "**Ans:**  There are ( 6 ) * ( 6 ) = ( 36 ) possible combinations of numbers. <br>\n",
    "a)\tThe minimum possible sum is (1, 1) = ( 2 ). <br>\n",
    "      Therefore P( 1 ) = ( 0 )/( 36 ) = 0 <br>\n",
    "<br>   \n",
    "b)\t The sum is less than or equal to 4 can be achieved with number combinations <br>\n",
    "(1, 1),(1, 2),(2, 1),( 2, 2), (1, 3) and (3, 1), that is only with 6 combinations of numbers. <br>\n",
    "P(sum >= 4) = ( 6 / 36 ) = (1/6) = 0.1666 <br>\n",
    "<br>\n",
    "c)\tThe combinations which meet this requirement are: <br>\n",
    "Sum is divisible by 2 and 3 : - <br>\n",
    "(1, 1), (1, 2), (1, 3), (1, 4), (1, 5), (1, 6 ) = 1 <br>\n",
    "(2, 1), (2, 2), (2, 3), (2, 4), (2, 5), (2, 6) = 1  <br>\n",
    "(3, 1), (3, 2), (3, 3), (3, 4), (3, 5), (3, 6) = 1  <br>\n",
    "(4, 1), (4, 2), (4, 3), (4, 4), (4, 5) (4, 6) = 1   <br>\n",
    "(5, 1), (5, 2), (5, 3), (5, 4), (5, 5), (5, 6) = 1  <br>\n",
    "(6, 1), (6, 2), (6, 3), (6, 4), (6, 5), (6, 6) = 1  <br>\n",
    "P(sum / 2 & 3) = 6/36 = (1/6) = 0.166 <br>"
   ]
  },
  {
   "cell_type": "markdown",
   "id": "e25a7900",
   "metadata": {},
   "source": [
    "### Q3) A bag contains 2 red, 3 green and 2 blue balls.Two balls are drawn at random. What is the probability that none of the balls drawn is blue?"
   ]
  },
  {
   "cell_type": "markdown",
   "id": "f37e936c",
   "metadata": {},
   "source": [
    "**Ans:** \n",
    "Total number of balls = (2 + 3 + 2) = 7 <br>\n",
    "Let S be the sample space. <br>\n",
    "Then, n(S) = Number of ways of drawing 2 balls out of 7 <br>\n",
    "=7C2 <br>\n",
    "= (2×1) (7×6) <br>\n",
    "=21 <br>\n",
    "Let E = Event of drawing 2 balls, none of which is blue. <br>\n",
    "∴n (E) = Number of ways of drawing 2 balls out of (2 + 3) balls. <br>\n",
    "=5C2 <br>\n",
    "= (2×1) (5×4) <br>\n",
    "=10 <br>\n",
    "∴P (E) = n(S) n(E)    =10/21 <br>"
   ]
  },
  {
   "cell_type": "markdown",
   "id": "d1f70c15",
   "metadata": {},
   "source": [
    "### Q4) Calculate the Expected number of candies for a randomly selected child:<br>\n",
    "Below are the probabilities of count of candies for children (ignoring the nature of the child-Generalized view)<br>\n",
    "i. Child A – probability of having 1 candy is 0.015<br>\n",
    "ii. Child B – probability of having 4 candies is 0.2<br>"
   ]
  },
  {
   "attachments": {
    "image.png": {
     "image/png": "[encoded data removed]"
    }
   },
   "cell_type": "markdown",
   "id": "71afd016",
   "metadata": {},
   "source": [
    "![image.png](attachment:image.png)"
   ]
  },
  {
   "cell_type": "markdown",
   "id": "4b7a1f9e",
   "metadata": {},
   "source": [
    "**Ans:**\n",
    "Expected number of candies for a randomly selected child<br>\n",
    "=   1 * 0.015   + 4*0.20   + 3 *0.65  + 5*0.005  + 6 *0.01  + 2 * 0.12<br>\n",
    "=  0.015 + 0.8   + 1.95 + 0.025 + 0.06 + 0.24<br>\n",
    "=   3.090<br>\n",
    "=   3.09"
   ]
  },
  {
   "cell_type": "markdown",
   "id": "ec1bc4ec",
   "metadata": {},
   "source": [
    "### Q5) Calculate Mean, Median, Mode, Variance, Standard Deviation, Range & comment about the values / draw inferences, for the given dataset<br>\n",
    "For Points, Score, Weigh<br>\n",
    "Find Mean, Median, Mode, Variance, Standard Deviation, and Range and comment about the values/ Draw some inferences.\n"
   ]
  },
  {
   "cell_type": "code",
   "execution_count": 3,
   "id": "c77f5c34",
   "metadata": {},
   "outputs": [
    {
     "name": "stdout",
     "output_type": "stream",
     "text": [
      "Mean 3.5965625000000006\n",
      "Median 3.6950000000000003\n",
      "Mode 0    3.07\n",
      "1    3.92\n",
      "dtype: float64\n",
      "Variance 0.28588135080645166\n",
      "Standard Deviation 0.5346787360709716\n",
      "Skewness 0.29278021324083486\n",
      "Kurtosis -0.45043245112717223\n"
     ]
    }
   ],
   "source": [
    "import pandas as pd\n",
    "\n",
    "stats = pd.read_csv(r\"C:\\Users\\D\\Desktop\\New Assignments  Keys\\Datasets\\Q7.csv\")\n",
    "\n",
    "# Points\n",
    "print('Points')\n",
    "print('Mean',stats.Points.mean()) # 3.5965625000000006\n",
    "print('Median',stats.Points.median()) # 3.6950000000000003\n",
    "print('Mode',stats.Points.mode()) # 0    3.07\n",
    "                 # 1    3.92\n",
    "print('Variance',stats.Points.var()) # 0.28588135080645166\n",
    "print('Standard Deviation',stats.Points.std()) #  0.5346787360709716\n",
    "range =  max(stats.Points) - min(stats.Points) \n",
    "range # 2.17\n",
    "\n",
    "print('Skewness',stats.Points.skew()) # 0.29278021324083486 \n",
    "print('Kurtosis',stats.Points.kurt()) # -0.45043245112717223 (Platykurtic)"
   ]
  },
  {
   "cell_type": "code",
   "execution_count": 4,
   "id": "aa499b53",
   "metadata": {},
   "outputs": [
    {
     "name": "stdout",
     "output_type": "stream",
     "text": [
      "Mean 3.2172499999999995\n",
      "Median 3.325\n",
      "Mode 0    3.44\n",
      "dtype: float64\n",
      "Variance 0.9573789677419356\n",
      "Standard Deviation 0.9784574429896967\n",
      "Skewness 0.4659161067929858\n",
      "Kurtosis 0.416594669634927\n"
     ]
    }
   ],
   "source": [
    "#Score\n",
    "print('Score')\n",
    "print('Mean',stats.Score.mean()) # 3.2172499999999995\n",
    "print('Median',stats.Score.median()) # 3.325\n",
    "print('Mode',stats.Score.mode()) #  3.44\n",
    "print('Variance',stats.Score.var()) # 0.9573789677419354\n",
    "print('Standard Deviation',stats.Score.std()) # 0.9784574429896966\n",
    "\n",
    "range =  max(stats.Score) - min(stats.Score)\n",
    "range # 3.9109999999999996\n",
    "\n",
    "print('Skewness',stats.Score.skew()) # 0.4659161067929868\n",
    "print('Kurtosis',stats.Score.kurt()) # 0.41659466963492564 (Platykurtic)"
   ]
  },
  {
   "cell_type": "code",
   "execution_count": 5,
   "id": "6566f441",
   "metadata": {},
   "outputs": [
    {
     "name": "stdout",
     "output_type": "stream",
     "text": [
      "Mean 17.848750000000003\n",
      "Median 17.71\n",
      "Mode 0    17.02\n",
      "1    18.90\n",
      "dtype: float64\n",
      "Variance 3.193166129032258\n",
      "Standard Deviation 1.7869432360968431\n",
      "Skewness 0.4063466292404903\n",
      "Kurtosis 0.8649306528645293\n"
     ]
    }
   ],
   "source": [
    "# Weigh\n",
    "print('Weigh')\n",
    "print('Mean',stats.Weigh.mean()) # 17.848750000000003\n",
    "print('Median',stats.Weigh.median()) #  17.71\n",
    "print('Mode',stats.Weigh.mode()) # 0    17.02\n",
    "                # 1    18.90\n",
    "print('Variance',stats.Weigh.var()) # 3.193166129032258\n",
    "print('Standard Deviation',stats.Weigh.std()) #  1.7869432360968431\n",
    "\n",
    "range =  max(stats.Weigh) - min(stats.Weigh) \n",
    "range # 8.399999999999999\n",
    "\n",
    "print('Skewness',stats.Weigh.skew()) # 0.4063466292404903\n",
    "print('Kurtosis',stats.Weigh.kurt()) # 0.8649306528645293 (Platykurtic)"
   ]
  },
  {
   "cell_type": "code",
   "execution_count": 8,
   "id": "4d9d1780",
   "metadata": {},
   "outputs": [
    {
     "name": "stdout",
     "output_type": "stream",
     "text": [
      "Points\n"
     ]
    },
    {
     "data": {
      "image/png": "[encoded data removed]",
      "text/plain": [
       "<Figure size 432x288 with 1 Axes>"
      ]
     },
     "metadata": {
      "needs_background": "light"
     },
     "output_type": "display_data"
    },
    {
     "data": {
      "image/png": "[encoded data removed]",
      "text/plain": [
       "<Figure size 432x288 with 1 Axes>"
      ]
     },
     "metadata": {
      "needs_background": "light"
     },
     "output_type": "display_data"
    },
    {
     "name": "stdout",
     "output_type": "stream",
     "text": [
      "Score\n"
     ]
    },
    {
     "data": {
      "image/png": "[encoded data removed]",
      "text/plain": [
       "<Figure size 432x288 with 1 Axes>"
      ]
     },
     "metadata": {
      "needs_background": "light"
     },
     "output_type": "display_data"
    },
    {
     "data": {
      "image/png": "[encoded data removed]",
      "text/plain": [
       "<Figure size 432x288 with 1 Axes>"
      ]
     },
     "metadata": {
      "needs_background": "light"
     },
     "output_type": "display_data"
    },
    {
     "name": "stdout",
     "output_type": "stream",
     "text": [
      "Weigh\n"
     ]
    },
    {
     "data": {
      "image/png": "[encoded data removed]",
      "text/plain": [
       "<Figure size 432x288 with 1 Axes>"
      ]
     },
     "metadata": {
      "needs_background": "light"
     },
     "output_type": "display_data"
    },
    {
     "data": {
      "image/png": "[encoded data removed]",
      "text/plain": [
       "<Figure size 432x288 with 1 Axes>"
      ]
     },
     "metadata": {
      "needs_background": "light"
     },
     "output_type": "display_data"
    },
    {
     "data": {
      "text/html": [
       "<div>\n",
       "<style scoped>\n",
       "    .dataframe tbody tr th:only-of-type {\n",
       "        vertical-align: middle;\n",
       "    }\n",
       "\n",
       "    .dataframe tbody tr th {\n",
       "        vertical-align: top;\n",
       "    }\n",
       "\n",
       "    .dataframe thead th {\n",
       "        text-align: right;\n",
       "    }\n",
       "</style>\n",
       "<table border=\"1\" class=\"dataframe\">\n",
       "  <thead>\n",
       "    <tr style=\"text-align: right;\">\n",
       "      <th></th>\n",
       "      <th>Points</th>\n",
       "      <th>Score</th>\n",
       "      <th>Weigh</th>\n",
       "    </tr>\n",
       "  </thead>\n",
       "  <tbody>\n",
       "    <tr>\n",
       "      <th>count</th>\n",
       "      <td>32.000000</td>\n",
       "      <td>32.000000</td>\n",
       "      <td>32.000000</td>\n",
       "    </tr>\n",
       "    <tr>\n",
       "      <th>mean</th>\n",
       "      <td>3.596563</td>\n",
       "      <td>3.217250</td>\n",
       "      <td>17.848750</td>\n",
       "    </tr>\n",
       "    <tr>\n",
       "      <th>std</th>\n",
       "      <td>0.534679</td>\n",
       "      <td>0.978457</td>\n",
       "      <td>1.786943</td>\n",
       "    </tr>\n",
       "    <tr>\n",
       "      <th>min</th>\n",
       "      <td>2.760000</td>\n",
       "      <td>1.513000</td>\n",
       "      <td>14.500000</td>\n",
       "    </tr>\n",
       "    <tr>\n",
       "      <th>25%</th>\n",
       "      <td>3.080000</td>\n",
       "      <td>2.581250</td>\n",
       "      <td>16.892500</td>\n",
       "    </tr>\n",
       "    <tr>\n",
       "      <th>50%</th>\n",
       "      <td>3.695000</td>\n",
       "      <td>3.325000</td>\n",
       "      <td>17.710000</td>\n",
       "    </tr>\n",
       "    <tr>\n",
       "      <th>75%</th>\n",
       "      <td>3.920000</td>\n",
       "      <td>3.610000</td>\n",
       "      <td>18.900000</td>\n",
       "    </tr>\n",
       "    <tr>\n",
       "      <th>max</th>\n",
       "      <td>4.930000</td>\n",
       "      <td>5.424000</td>\n",
       "      <td>22.900000</td>\n",
       "    </tr>\n",
       "  </tbody>\n",
       "</table>\n",
       "</div>"
      ],
      "text/plain": [
       "          Points      Score      Weigh\n",
       "count  32.000000  32.000000  32.000000\n",
       "mean    3.596563   3.217250  17.848750\n",
       "std     0.534679   0.978457   1.786943\n",
       "min     2.760000   1.513000  14.500000\n",
       "25%     3.080000   2.581250  16.892500\n",
       "50%     3.695000   3.325000  17.710000\n",
       "75%     3.920000   3.610000  18.900000\n",
       "max     4.930000   5.424000  22.900000"
      ]
     },
     "execution_count": 8,
     "metadata": {},
     "output_type": "execute_result"
    }
   ],
   "source": [
    "import matplotlib.pyplot as plt\n",
    "import numpy as np\n",
    "\n",
    "# Points\n",
    "print('Points')\n",
    "plt.boxplot(stats.Points, vert=False);plt.show() # it is right skew & no outliers\n",
    "plt.hist(stats.Points);plt.show()\n",
    "\n",
    "# Score\n",
    "print('Score')\n",
    "plt.boxplot(stats.Score, vert=False);plt.show() # it is left skew & outliers is there\n",
    "plt.hist(stats.Score);plt.show()\n",
    "\n",
    "# Weigh\n",
    "print('Weigh')\n",
    "plt.boxplot(stats.Weigh, vert=False);plt.show() # it is left skew & outliers is there\n",
    "plt.hist(stats.Weigh);plt.show()\n",
    "\n",
    "stats.describe()"
   ]
  },
  {
   "cell_type": "markdown",
   "id": "9d183a0d",
   "metadata": {},
   "source": [
    "### Q6) Calculate Expected Value for the problem below"
   ]
  },
  {
   "cell_type": "markdown",
   "id": "bb1c03f0",
   "metadata": {},
   "source": [
    "a)\tThe weights (X) of patients at a clinic (in pounds), are<br>\n",
    "108, 110, 123, 134, 135, 145, 167, 187, 199<br>\n",
    "Assume one of the patients is chosen at random. What is the Expected Value of the Weight of that patient?<br>\n",
    "Ans:  EXPECTED VALUE = ∑ P(X).E(X)<br>\n",
    "          = ((1/9)*108) + ((1/9)*110) + ((1/9)*123) + ((1/9)*134) + ((1/9)*135) +        ((1/9)*145) + ((1/9)*167) + ((1/9)*187) + ((1/9)*199) <br>\n",
    "          = 145.33<br>\n",
    "HENCE, 145.33 kg IS THE EXPECTED VALUE OF THAT PATIENT."
   ]
  },
  {
   "cell_type": "markdown",
   "id": "af428281",
   "metadata": {},
   "source": [
    "### Q7)  Look at the data given below. Plot the data, find the outliers and find out  μ,σ,σ^2\n",
    "Hint: [Use a plot which shows the data distribution, skewness along with the outliers; also use R/Python code to evaluate measures of centrality and spread]"
   ]
  },
  {
   "cell_type": "code",
   "execution_count": 37,
   "id": "678f9779",
   "metadata": {},
   "outputs": [
    {
     "data": {
      "text/html": [
       "<div>\n",
       "<style scoped>\n",
       "    .dataframe tbody tr th:only-of-type {\n",
       "        vertical-align: middle;\n",
       "    }\n",
       "\n",
       "    .dataframe tbody tr th {\n",
       "        vertical-align: top;\n",
       "    }\n",
       "\n",
       "    .dataframe thead th {\n",
       "        text-align: right;\n",
       "    }\n",
       "</style>\n",
       "<table border=\"1\" class=\"dataframe\">\n",
       "  <thead>\n",
       "    <tr style=\"text-align: right;\">\n",
       "      <th></th>\n",
       "      <th>Name of company</th>\n",
       "      <th>Measure X</th>\n",
       "    </tr>\n",
       "  </thead>\n",
       "  <tbody>\n",
       "    <tr>\n",
       "      <th>0</th>\n",
       "      <td>Allied Signal</td>\n",
       "      <td>0.24</td>\n",
       "    </tr>\n",
       "    <tr>\n",
       "      <th>1</th>\n",
       "      <td>Bankers Trust</td>\n",
       "      <td>0.26</td>\n",
       "    </tr>\n",
       "    <tr>\n",
       "      <th>2</th>\n",
       "      <td>General Mills</td>\n",
       "      <td>0.25</td>\n",
       "    </tr>\n",
       "    <tr>\n",
       "      <th>3</th>\n",
       "      <td>ITT Industries</td>\n",
       "      <td>0.24</td>\n",
       "    </tr>\n",
       "    <tr>\n",
       "      <th>4</th>\n",
       "      <td>J.P.Morgan &amp; Co.</td>\n",
       "      <td>0.30</td>\n",
       "    </tr>\n",
       "    <tr>\n",
       "      <th>5</th>\n",
       "      <td>Lehman Brothers</td>\n",
       "      <td>0.28</td>\n",
       "    </tr>\n",
       "    <tr>\n",
       "      <th>6</th>\n",
       "      <td>Marriott</td>\n",
       "      <td>0.26</td>\n",
       "    </tr>\n",
       "    <tr>\n",
       "      <th>7</th>\n",
       "      <td>MCI</td>\n",
       "      <td>0.24</td>\n",
       "    </tr>\n",
       "    <tr>\n",
       "      <th>8</th>\n",
       "      <td>Merrill Lynch</td>\n",
       "      <td>0.40</td>\n",
       "    </tr>\n",
       "    <tr>\n",
       "      <th>9</th>\n",
       "      <td>Microsoft</td>\n",
       "      <td>0.33</td>\n",
       "    </tr>\n",
       "    <tr>\n",
       "      <th>10</th>\n",
       "      <td>Morgan Stanley</td>\n",
       "      <td>0.91</td>\n",
       "    </tr>\n",
       "    <tr>\n",
       "      <th>11</th>\n",
       "      <td>Sun Microsystems</td>\n",
       "      <td>0.26</td>\n",
       "    </tr>\n",
       "    <tr>\n",
       "      <th>12</th>\n",
       "      <td>Travelers</td>\n",
       "      <td>0.39</td>\n",
       "    </tr>\n",
       "    <tr>\n",
       "      <th>13</th>\n",
       "      <td>US Airways</td>\n",
       "      <td>0.27</td>\n",
       "    </tr>\n",
       "    <tr>\n",
       "      <th>14</th>\n",
       "      <td>Warner-Lambert</td>\n",
       "      <td>0.35</td>\n",
       "    </tr>\n",
       "  </tbody>\n",
       "</table>\n",
       "</div>"
      ],
      "text/plain": [
       "     Name of company  Measure X\n",
       "0      Allied Signal       0.24\n",
       "1      Bankers Trust       0.26\n",
       "2      General Mills       0.25\n",
       "3     ITT Industries       0.24\n",
       "4   J.P.Morgan & Co.       0.30\n",
       "5    Lehman Brothers       0.28\n",
       "6           Marriott       0.26\n",
       "7                MCI       0.24\n",
       "8      Merrill Lynch       0.40\n",
       "9          Microsoft       0.33\n",
       "10    Morgan Stanley       0.91\n",
       "11  Sun Microsystems       0.26\n",
       "12         Travelers       0.39\n",
       "13        US Airways       0.27\n",
       "14    Warner-Lambert       0.35"
      ]
     },
     "execution_count": 37,
     "metadata": {},
     "output_type": "execute_result"
    }
   ],
   "source": [
    "import pandas as pd\n",
    "import numpy as np\n",
    "#Load the data\n",
    "A = pd.read_csv(r\"C:\\Users\\D\\Desktop\\New Assignments  Keys\\Datasets\\A.csv\")\n",
    "A"
   ]
  },
  {
   "cell_type": "code",
   "execution_count": 40,
   "id": "92c4947e",
   "metadata": {},
   "outputs": [
    {
     "name": "stdout",
     "output_type": "stream",
     "text": [
      "Mean 0.332\n",
      "Median 0.27\n",
      "Mode 0    0.24\n",
      "1    0.26\n",
      "dtype: float64\n",
      "Variance 0.028402857142857153\n",
      "Standard Deviation 0.16853147226217766\n",
      "Skewness 3.2575505554296598\n",
      "Kurtosis 11.48838705262148\n"
     ]
    }
   ],
   "source": [
    "#Exploratory Data Analysis\n",
    "#Measures of Central Tendency / First moment business decision\n",
    "# Measure X\n",
    "\n",
    "print('Mean',A['Measure X'].mean()) #0.332\n",
    "print('Median',A['Measure X'].median()) #0.27\n",
    "#Bi Mode\n",
    "print('Mode',A['Measure X'].mode()) # 0    0.24 \n",
    "                      # 1    0.26\n",
    "## Measures of Dispersion / Second moment business decision\n",
    "\n",
    "print('Variance',A['Measure X'].var()) # 0.028402857142857153\n",
    "print('Standard Deviation',A['Measure X'].std()) # 0.16853147226217766\n",
    "\n",
    "range = max(A['Measure X']) - min(A['Measure X']) #range\n",
    "range #0.67\n",
    "\n",
    "# Third moment business decision\n",
    "print('Skewness',A['Measure X'].skew()) # 3.2575505554296598\n",
    "\n",
    "# Fourth moment business decision\n",
    "print('Kurtosis',A['Measure X'].kurt()) # 11.48838705262148 (Leptokurtic)"
   ]
  },
  {
   "cell_type": "code",
   "execution_count": 41,
   "id": "63403e69",
   "metadata": {},
   "outputs": [
    {
     "data": {
      "image/png": "[encoded data removed]",
      "text/plain": [
       "<Figure size 432x288 with 1 Axes>"
      ]
     },
     "metadata": {
      "needs_background": "light"
     },
     "output_type": "display_data"
    },
    {
     "data": {
      "text/html": [
       "<div>\n",
       "<style scoped>\n",
       "    .dataframe tbody tr th:only-of-type {\n",
       "        vertical-align: middle;\n",
       "    }\n",
       "\n",
       "    .dataframe tbody tr th {\n",
       "        vertical-align: top;\n",
       "    }\n",
       "\n",
       "    .dataframe thead th {\n",
       "        text-align: right;\n",
       "    }\n",
       "</style>\n",
       "<table border=\"1\" class=\"dataframe\">\n",
       "  <thead>\n",
       "    <tr style=\"text-align: right;\">\n",
       "      <th></th>\n",
       "      <th>Measure X</th>\n",
       "    </tr>\n",
       "  </thead>\n",
       "  <tbody>\n",
       "    <tr>\n",
       "      <th>count</th>\n",
       "      <td>15.000000</td>\n",
       "    </tr>\n",
       "    <tr>\n",
       "      <th>mean</th>\n",
       "      <td>0.332000</td>\n",
       "    </tr>\n",
       "    <tr>\n",
       "      <th>std</th>\n",
       "      <td>0.168531</td>\n",
       "    </tr>\n",
       "    <tr>\n",
       "      <th>min</th>\n",
       "      <td>0.240000</td>\n",
       "    </tr>\n",
       "    <tr>\n",
       "      <th>25%</th>\n",
       "      <td>0.255000</td>\n",
       "    </tr>\n",
       "    <tr>\n",
       "      <th>50%</th>\n",
       "      <td>0.270000</td>\n",
       "    </tr>\n",
       "    <tr>\n",
       "      <th>75%</th>\n",
       "      <td>0.340000</td>\n",
       "    </tr>\n",
       "    <tr>\n",
       "      <th>max</th>\n",
       "      <td>0.910000</td>\n",
       "    </tr>\n",
       "  </tbody>\n",
       "</table>\n",
       "</div>"
      ],
      "text/plain": [
       "       Measure X\n",
       "count  15.000000\n",
       "mean    0.332000\n",
       "std     0.168531\n",
       "min     0.240000\n",
       "25%     0.255000\n",
       "50%     0.270000\n",
       "75%     0.340000\n",
       "max     0.910000"
      ]
     },
     "execution_count": 41,
     "metadata": {},
     "output_type": "execute_result"
    }
   ],
   "source": [
    "#Graphical Representation \n",
    "\n",
    "import matplotlib.pyplot as plt # mostly used for visualization purposes\n",
    "import numpy as np\n",
    "\n",
    "# Boxplot - Data Distribution\n",
    "plt.boxplot(A['Measure X'],vert=False);plt.show() #just enhancment(for understanding)\n",
    "\n",
    "# It's a right skew and has outlier\n",
    "A.describe() # it shows values of the data distribution"
   ]
  },
  {
   "cell_type": "markdown",
   "id": "feebb1b0",
   "metadata": {},
   "source": [
    "### Q8) AT&T was running commercials in 1990 aimed at luring back customers who had switched to one of the other long-distance phone service providers. One such commercial shows a businessman trying to reach Phoenix and mistakenly getting Fiji, where a half-naked native on a beach responds incomprehensibly in Polynesian. When asked about this advertisement, AT&T admitted that the portrayed incident did not actually take place but added that this was an enactment of something that “could happen.” Suppose that one in 200 long-distance telephone calls is misdirected. \n",
    "\n",
    "What is the probability that at least one in five attempted telephone calls reaches the wrong number? (Assume independence of attempts.)\n",
    "Hint: [Using Probability formula evaluate the probability of one call being wrong out of five attempted calls]"
   ]
  },
  {
   "cell_type": "markdown",
   "id": "44909413",
   "metadata": {},
   "source": [
    "**Ans:**\n",
    " Given :  one in 200 long-distance telephone calls is misdirected.  <br>\n",
    "To find : probability that at least one in five attempted telephone calls reaches the wrong number<br>\n",
    "Solution:<br>\n",
    "one in 200 long-distance telephone calls is misdirected<br>\n",
    "=>  probability of call misdirecting  p = 1/200<br>\n",
    "     Probability of call not Misdirecting = 1 - 1/200 = 199/200<br>\n",
    "Number of Calls = 5<br>\n",
    "P(x) = ⁿCₓpˣqⁿ⁻ˣ<br>\n",
    "n = 5<br>\n",
    "p = 1/200<br>\n",
    "q = 199/200<br>\n",
    "at least one in five attempted telephone calls reaches the wrong number<br>\n",
    "= 1  -  none of the call reaches the wrong number<br>\n",
    "= 1  - P(0)<br>\n",
    "= 1   -  ⁵C₀(1/200)⁰(199/200)⁵⁻⁰<br>\n",
    "= 1  -  (199/200)⁵<br>\n",
    "= 0.02475<br>\n",
    "probability that at least one in five attempted telephone calls reaches the wrong number = 0.02475<br>\n"
   ]
  }
 ],
 "metadata": {
  "kernelspec": {
   "display_name": "Python 3 (ipykernel)",
   "language": "python",
   "name": "python3"
  },
  "language_info": {
   "codemirror_mode": {
    "name": "ipython",
    "version": 3
   },
   "file_extension": ".py",
   "mimetype": "text/x-python",
   "name": "python",
   "nbconvert_exporter": "python",
   "pygments_lexer": "ipython3",
   "version": "3.9.7"
  }
 },
 "nbformat": 4,
 "nbformat_minor": 5
}
