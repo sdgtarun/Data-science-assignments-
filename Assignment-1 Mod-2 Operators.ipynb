{
 "cells": [
  {
   "cell_type": "markdown",
   "metadata": {},
   "source": [
    "# Module2: Operators"
   ]
  },
  {
   "cell_type": "markdown",
   "metadata": {},
   "source": [
    "#### 1. a) Write an equation which can relate 399, 543, 12345\n",
    "####     b) 'When I divide 5 with 3, I got 1. But when I divide 5 with 3, I got 2' – Justify the statement."
   ]
  },
  {
   "cell_type": "code",
   "execution_count": null,
   "metadata": {},
   "outputs": [],
   "source": [
    "# One possible solution is, if 12345 is divided by 543 we get a remainder as 399 and quotient as 22.\n",
    "\n",
    "a = 399 \n",
    "b = 543\n",
    "c = 12345\n",
    "\n",
    "equation = 22 * b + a\n",
    "print(equation)\n",
    "\n",
    "equation == c\n",
    "\n",
    "# Hence it is valid relation\n"
   ]
  },
  {
   "cell_type": "markdown",
   "metadata": {},
   "source": [
    "#### 2. a = 5, b = 3 , c = 10. What will be the output of the following?\n",
    "    #### A. a /= b\n",
    "    #### B. c *= 5"
   ]
  },
  {
   "cell_type": "code",
   "execution_count": null,
   "metadata": {},
   "outputs": [],
   "source": [
    "a = 5\n",
    "b = 3\n",
    "c = 10"
   ]
  },
  {
   "cell_type": "code",
   "execution_count": null,
   "metadata": {},
   "outputs": [],
   "source": [
    "# A. a /= b\n",
    "\n",
    "a = a / b\n",
    "print(a)"
   ]
  },
  {
   "cell_type": "code",
   "execution_count": null,
   "metadata": {},
   "outputs": [],
   "source": [
    "# B. c *= 5\n",
    "\n",
    "c = c * 5\n",
    "print(c)"
   ]
  },
  {
   "cell_type": "markdown",
   "metadata": {},
   "source": [
    "#### 3. A. How to check the presence of an alphabet \"s\" in word \"Data Science\".\n",
    "#### B. How can you obtain 64 by using number 4 and 3."
   ]
  },
  {
   "cell_type": "code",
   "execution_count": null,
   "metadata": {},
   "outputs": [],
   "source": [
    "# How to check the presence of an alphabet \"s\" in word \"Data Science\".\n",
    "\n",
    "word = \"Data Science\"\n",
    "word.find(\"S\")"
   ]
  },
  {
   "cell_type": "code",
   "execution_count": null,
   "metadata": {},
   "outputs": [],
   "source": [
    "# b. How can you obtain 64 by using number 4 and 3.\n",
    "\n",
    "# 64 is cube of 4\n",
    "a = 4 ** 3\n",
    "print(a)"
   ]
  }
 ],
 "metadata": {
  "kernelspec": {
   "display_name": "Python 3 (ipykernel)",
   "language": "python",
   "name": "python3"
  },
  "language_info": {
   "codemirror_mode": {
    "name": "ipython",
    "version": 3
   },
   "file_extension": ".py",
   "mimetype": "text/x-python",
   "name": "python",
   "nbconvert_exporter": "python",
   "pygments_lexer": "ipython3",
   "version": "3.9.7"
  }
 },
 "nbformat": 4,
 "nbformat_minor": 2
}
