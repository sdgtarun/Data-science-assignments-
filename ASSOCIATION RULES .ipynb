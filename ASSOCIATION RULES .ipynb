{
 "cells": [
  {
   "cell_type": "markdown",
   "id": "d89d54b2",
   "metadata": {},
   "source": [
    "### Problem Statement: -\n",
    "Kitabi Duniya, a famous book store in India, which was established before Independence, the growth of the company was incremental year by year, but due to online selling of books and wide spread Internet access its annual growth started to collapse, seeing sharp downfalls, you as a Data Scientist help this heritage book store gain its popularity back and increase footfall of customers and provide ways the business can improve exponentially, apply Association RuleAlgorithm, explain the rules, and visualize the graphs for clear understanding of solution.\n"
   ]
  },
  {
   "cell_type": "code",
   "execution_count": 4,
   "id": "5f1f7f01",
   "metadata": {},
   "outputs": [],
   "source": [
    "#load nessecary packages.\n",
    "import pandas as pd\n",
    "from mlxtend.frequent_patterns import apriori, association_rules"
   ]
  },
  {
   "cell_type": "code",
   "execution_count": 6,
   "id": "9adb2857",
   "metadata": {},
   "outputs": [],
   "source": [
    "with open (r\"C:\\Users\\tarun\\Documents\\taruns imp\\Data science material\\assignments\\SETS\\Assiociation rules\\book.csv\") as f:\n",
    "    book=f.read()"
   ]
  },
  {
   "cell_type": "code",
   "execution_count": 7,
   "id": "9f1e2953",
   "metadata": {},
   "outputs": [],
   "source": [
    "book = book.split(\"\\n\")"
   ]
  },
  {
   "cell_type": "code",
   "execution_count": 8,
   "id": "bec630e1",
   "metadata": {},
   "outputs": [],
   "source": [
    "book_list=[]\n",
    "for i in book :\n",
    "    book_list.append(i.split(\",\"))"
   ]
  },
  {
   "cell_type": "code",
   "execution_count": 11,
   "id": "c60445d1",
   "metadata": {},
   "outputs": [],
   "source": [
    "all_book_list=[i for item in book_list for i in item]\n"
   ]
  },
  {
   "cell_type": "code",
   "execution_count": 13,
   "id": "2e895a0e",
   "metadata": {},
   "outputs": [],
   "source": [
    "from collections import Counter "
   ]
  },
  {
   "cell_type": "code",
   "execution_count": 15,
   "id": "6de65de0",
   "metadata": {},
   "outputs": [],
   "source": [
    "items_frequencies = Counter(all_book_list)"
   ]
  },
  {
   "cell_type": "code",
   "execution_count": 18,
   "id": "c2861020",
   "metadata": {},
   "outputs": [],
   "source": [
    "items_frequencies=sorted(items_frequencies.items(),key=lambda x:x [1])"
   ]
  },
  {
   "cell_type": "code",
   "execution_count": 20,
   "id": "8795d199",
   "metadata": {},
   "outputs": [],
   "source": [
    "frequencies=list(reversed([i[1]for i in items_frequencies]))"
   ]
  },
  {
   "cell_type": "code",
   "execution_count": 24,
   "id": "f416067a",
   "metadata": {},
   "outputs": [],
   "source": [
    "items=list(reversed([i[0]for i in items_frequencies]))"
   ]
  },
  {
   "cell_type": "code",
   "execution_count": 25,
   "id": "eb05c9e9",
   "metadata": {},
   "outputs": [],
   "source": [
    "import matplotlib.pyplot as plt"
   ]
  },
  {
   "cell_type": "code",
   "execution_count": 31,
   "id": "f7e11e32",
   "metadata": {},
   "outputs": [
    {
     "data": {
      "image/png": "[encoded data removed]",
      "text/plain": [
       "<Figure size 432x288 with 1 Axes>"
      ]
     },
     "metadata": {
      "needs_background": "light"
     },
     "output_type": "display_data"
    }
   ],
   "source": [
    "plt.bar(height=frequencies[0:11],x=list(range(0,11)),color=\"blue\")\n",
    "plt.xticks(list(range(0,11),),items[0:11])\n",
    "plt.xlabel(\"items\")\n",
    "plt.ylabel(\"count\")\n",
    "plt.show()"
   ]
  },
  {
   "cell_type": "code",
   "execution_count": 32,
   "id": "5fc17e76",
   "metadata": {},
   "outputs": [],
   "source": [
    "book_series=pd.DataFrame(pd.Series(book_list))\n",
    "book_series=book_series.iloc[:9835,:]"
   ]
  },
  {
   "cell_type": "code",
   "execution_count": 34,
   "id": "a9a68b8a",
   "metadata": {},
   "outputs": [],
   "source": [
    "book_series.columns=[\"transactions\"]"
   ]
  },
  {
   "cell_type": "code",
   "execution_count": 35,
   "id": "da6c5036",
   "metadata": {},
   "outputs": [],
   "source": [
    "x=book_series[\"transactions\"].str.join(sep=\"*\").str.get_dummies(sep=\"*\")"
   ]
  },
  {
   "cell_type": "code",
   "execution_count": 39,
   "id": "fbb34d81",
   "metadata": {},
   "outputs": [],
   "source": [
    "frequent_itemsets=apriori(,min_support=0.0075,max_len=4,use_colnames=True)"
   ]
  },
  {
   "cell_type": "code",
   "execution_count": 42,
   "id": "d587bcc4",
   "metadata": {},
   "outputs": [],
   "source": [
    "frequent_itemsets.sort_values('support', ascending = False, inplace = True)"
   ]
  },
  {
   "cell_type": "code",
   "execution_count": 52,
   "id": "1bc39b06",
   "metadata": {},
   "outputs": [
    {
     "data": {
      "text/html": [
       "<div>\n",
       "<style scoped>\n",
       "    .dataframe tbody tr th:only-of-type {\n",
       "        vertical-align: middle;\n",
       "    }\n",
       "\n",
       "    .dataframe tbody tr th {\n",
       "        vertical-align: top;\n",
       "    }\n",
       "\n",
       "    .dataframe thead th {\n",
       "        text-align: right;\n",
       "    }\n",
       "</style>\n",
       "<table border=\"1\" class=\"dataframe\">\n",
       "  <thead>\n",
       "    <tr style=\"text-align: right;\">\n",
       "      <th></th>\n",
       "      <th>antecedents</th>\n",
       "      <th>consequents</th>\n",
       "      <th>antecedent support</th>\n",
       "      <th>consequent support</th>\n",
       "      <th>support</th>\n",
       "      <th>confidence</th>\n",
       "      <th>lift</th>\n",
       "      <th>leverage</th>\n",
       "      <th>conviction</th>\n",
       "    </tr>\n",
       "  </thead>\n",
       "  <tbody>\n",
       "    <tr>\n",
       "      <th>0</th>\n",
       "      <td>(1)</td>\n",
       "      <td>(0)</td>\n",
       "      <td>0.788711</td>\n",
       "      <td>0.998002</td>\n",
       "      <td>0.787712</td>\n",
       "      <td>0.998733</td>\n",
       "      <td>1.000733</td>\n",
       "      <td>0.000577</td>\n",
       "      <td>1.577423</td>\n",
       "    </tr>\n",
       "    <tr>\n",
       "      <th>1</th>\n",
       "      <td>(0)</td>\n",
       "      <td>(1)</td>\n",
       "      <td>0.998002</td>\n",
       "      <td>0.788711</td>\n",
       "      <td>0.787712</td>\n",
       "      <td>0.789289</td>\n",
       "      <td>1.000733</td>\n",
       "      <td>0.000577</td>\n",
       "      <td>1.002743</td>\n",
       "    </tr>\n",
       "  </tbody>\n",
       "</table>\n",
       "</div>"
      ],
      "text/plain": [
       "  antecedents consequents  antecedent support  consequent support   support  \\\n",
       "0         (1)         (0)            0.788711            0.998002  0.787712   \n",
       "1         (0)         (1)            0.998002            0.788711  0.787712   \n",
       "\n",
       "   confidence      lift  leverage  conviction  \n",
       "0    0.998733  1.000733  0.000577    1.577423  \n",
       "1    0.789289  1.000733  0.000577    1.002743  "
      ]
     },
     "execution_count": 52,
     "metadata": {},
     "output_type": "execute_result"
    }
   ],
   "source": [
    "rules = association_rules(frequent_itemsets, metric = \"lift\", min_threshold = 1)\n",
    "rules.head(20)\n",
    "rules.sort_values('lift', ascending = False).head(10)"
   ]
  },
  {
   "cell_type": "markdown",
   "id": "efd3d0e3",
   "metadata": {},
   "source": [
    "###The Departmental Store, has gathered the data of the products it sells on a Daily basis.\n",
    "Using Association Rules concepts, provide the insights on the rules and the plots.\n",
    " "
   ]
  },
  {
   "cell_type": "code",
   "execution_count": 1,
   "id": "1407ee43",
   "metadata": {},
   "outputs": [],
   "source": [
    "import pandas as pd\n",
    "from mlxtend.frequent_patterns import apriori, association_rules"
   ]
  },
  {
   "cell_type": "code",
   "execution_count": 2,
   "id": "f5b83e5d",
   "metadata": {},
   "outputs": [],
   "source": [
    "with open(r\"C:\\Users\\tarun\\Documents\\taruns imp\\Data science material\\assignments\\SETS\\Assiociation rules\\groceries.csv\")as f:\n",
    "  groceries=f.read()"
   ]
  },
  {
   "cell_type": "code",
   "execution_count": 3,
   "id": "b10cf095",
   "metadata": {},
   "outputs": [],
   "source": [
    "groceries=groceries.split(\"\\n\")"
   ]
  },
  {
   "cell_type": "code",
   "execution_count": 4,
   "id": "8273a68b",
   "metadata": {},
   "outputs": [],
   "source": [
    "groceries_list=[]\n",
    "for i in groceries:\n",
    "    groceries_list.append(i.split(\",\"))"
   ]
  },
  {
   "cell_type": "code",
   "execution_count": 8,
   "id": "f850ae97",
   "metadata": {},
   "outputs": [],
   "source": [
    "all_groceries_list=[i for item in groceries_list for i in item]"
   ]
  },
  {
   "cell_type": "code",
   "execution_count": 9,
   "id": "b25c3bc7",
   "metadata": {},
   "outputs": [],
   "source": [
    "from collections import Counter "
   ]
  },
  {
   "cell_type": "code",
   "execution_count": 10,
   "id": "b81e4204",
   "metadata": {},
   "outputs": [],
   "source": [
    "item_frequenciens = Counter(all_groceries_list)"
   ]
  },
  {
   "cell_type": "code",
   "execution_count": 14,
   "id": "36cc47e4",
   "metadata": {},
   "outputs": [],
   "source": [
    "item_frequenciens=sorted(item_frequenciens.items(),key=lambda x:x[1])"
   ]
  },
  {
   "cell_type": "code",
   "execution_count": 15,
   "id": "34fc6b58",
   "metadata": {},
   "outputs": [],
   "source": [
    "frequencies=list(reversed([i[1]for i in item_frequenciens]))"
   ]
  },
  {
   "cell_type": "code",
   "execution_count": 16,
   "id": "35934ea1",
   "metadata": {},
   "outputs": [],
   "source": [
    "items=list(reversed([i[0]for i in item_frequenciens]))"
   ]
  },
  {
   "cell_type": "code",
   "execution_count": 17,
   "id": "4fa28eee",
   "metadata": {},
   "outputs": [],
   "source": [
    "import matplotlib.pyplot as plt"
   ]
  },
  {
   "cell_type": "code",
   "execution_count": 22,
   "id": "05ac53f8",
   "metadata": {},
   "outputs": [
    {
     "data": {
      "image/png": "[encoded data removed]",
      "text/plain": [
       "<Figure size 432x288 with 1 Axes>"
      ]
     },
     "metadata": {
      "needs_background": "light"
     },
     "output_type": "display_data"
    }
   ],
   "source": [
    "plt.bar(height=frequencies[0:11],x=list(range(0,11)),color=\"red\")\n",
    "plt.xticks(list(range(0,11),),items[0:11])\n",
    "plt.xlabel(\"items\")\n",
    "plt.ylabel(\"Count\")\n",
    "plt.show()"
   ]
  },
  {
   "cell_type": "code",
   "execution_count": 24,
   "id": "910d76dd",
   "metadata": {},
   "outputs": [],
   "source": [
    "groceries_series= pd.DataFrame(pd.Series(groceries_list))\n",
    "groceries_series=groceries_series.iloc[:9835,:]"
   ]
  },
  {
   "cell_type": "code",
   "execution_count": 25,
   "id": "07160054",
   "metadata": {},
   "outputs": [],
   "source": [
    "groceries_series.columns=[\"transactions\"]"
   ]
  },
  {
   "cell_type": "code",
   "execution_count": 26,
   "id": "188c7473",
   "metadata": {},
   "outputs": [],
   "source": [
    "x=groceries_series[\"transactions\"].str.join(sep=\"*\").str.get_dummies(sep=\"*\")"
   ]
  },
  {
   "cell_type": "code",
   "execution_count": 27,
   "id": "aba051d9",
   "metadata": {},
   "outputs": [
    {
     "name": "stderr",
     "output_type": "stream",
     "text": [
      "C:\\Users\\tarun\\anaconda3\\lib\\site-packages\\mlxtend\\frequent_patterns\\fpcommon.py:111: DeprecationWarning: DataFrames with non-bool types result in worse computationalperformance and their support might be discontinued in the future.Please use a DataFrame with bool type\n",
      "  warnings.warn(\n"
     ]
    }
   ],
   "source": [
    "frequent_items=apriori(x,min_support=0.0075,max_len=4,use_colnames=True)"
   ]
  },
  {
   "cell_type": "code",
   "execution_count": 28,
   "id": "181c04ea",
   "metadata": {},
   "outputs": [],
   "source": [
    "frequent_items.sort_values('support',ascending=False,inplace=True)"
   ]
  },
  {
   "cell_type": "code",
   "execution_count": 33,
   "id": "b6cb4ab6",
   "metadata": {},
   "outputs": [
    {
     "data": {
      "image/png": "[encoded data removed]",
      "text/plain": [
       "<Figure size 432x288 with 1 Axes>"
      ]
     },
     "metadata": {
      "needs_background": "light"
     },
     "output_type": "display_data"
    }
   ],
   "source": [
    "plt.bar(x = list(range(0, 11)), height = frequent_items.support[0:11], color ='green')\n",
    "plt.xticks(list(range(0, 11)), frequent_items.itemsets[0:11], rotation=20)\n",
    "plt.xlabel('item-sets')\n",
    "plt.ylabel('support')\n",
    "plt.show()"
   ]
  },
  {
   "cell_type": "code",
   "execution_count": 35,
   "id": "9cc7cbda",
   "metadata": {},
   "outputs": [
    {
     "data": {
      "text/html": [
       "<div>\n",
       "<style scoped>\n",
       "    .dataframe tbody tr th:only-of-type {\n",
       "        vertical-align: middle;\n",
       "    }\n",
       "\n",
       "    .dataframe tbody tr th {\n",
       "        vertical-align: top;\n",
       "    }\n",
       "\n",
       "    .dataframe thead th {\n",
       "        text-align: right;\n",
       "    }\n",
       "</style>\n",
       "<table border=\"1\" class=\"dataframe\">\n",
       "  <thead>\n",
       "    <tr style=\"text-align: right;\">\n",
       "      <th></th>\n",
       "      <th>antecedents</th>\n",
       "      <th>consequents</th>\n",
       "      <th>antecedent support</th>\n",
       "      <th>consequent support</th>\n",
       "      <th>support</th>\n",
       "      <th>confidence</th>\n",
       "      <th>lift</th>\n",
       "      <th>leverage</th>\n",
       "      <th>conviction</th>\n",
       "    </tr>\n",
       "  </thead>\n",
       "  <tbody>\n",
       "    <tr>\n",
       "      <th>1170</th>\n",
       "      <td>(other vegetables, yogurt)</td>\n",
       "      <td>(tropical fruit, whole milk)</td>\n",
       "      <td>0.043416</td>\n",
       "      <td>0.042298</td>\n",
       "      <td>0.007626</td>\n",
       "      <td>0.175644</td>\n",
       "      <td>4.152546</td>\n",
       "      <td>0.005789</td>\n",
       "      <td>1.161758</td>\n",
       "    </tr>\n",
       "    <tr>\n",
       "      <th>1175</th>\n",
       "      <td>(tropical fruit, whole milk)</td>\n",
       "      <td>(other vegetables, yogurt)</td>\n",
       "      <td>0.042298</td>\n",
       "      <td>0.043416</td>\n",
       "      <td>0.007626</td>\n",
       "      <td>0.180288</td>\n",
       "      <td>4.152546</td>\n",
       "      <td>0.005789</td>\n",
       "      <td>1.166976</td>\n",
       "    </tr>\n",
       "    <tr>\n",
       "      <th>1090</th>\n",
       "      <td>(other vegetables, whole milk)</td>\n",
       "      <td>(root vegetables, yogurt)</td>\n",
       "      <td>0.074835</td>\n",
       "      <td>0.025826</td>\n",
       "      <td>0.007829</td>\n",
       "      <td>0.104620</td>\n",
       "      <td>4.050919</td>\n",
       "      <td>0.005896</td>\n",
       "      <td>1.088000</td>\n",
       "    </tr>\n",
       "    <tr>\n",
       "      <th>1091</th>\n",
       "      <td>(root vegetables, yogurt)</td>\n",
       "      <td>(other vegetables, whole milk)</td>\n",
       "      <td>0.025826</td>\n",
       "      <td>0.074835</td>\n",
       "      <td>0.007829</td>\n",
       "      <td>0.303150</td>\n",
       "      <td>4.050919</td>\n",
       "      <td>0.005896</td>\n",
       "      <td>1.327638</td>\n",
       "    </tr>\n",
       "    <tr>\n",
       "      <th>792</th>\n",
       "      <td>(berries)</td>\n",
       "      <td>(whipped/sour cream)</td>\n",
       "      <td>0.033249</td>\n",
       "      <td>0.071683</td>\n",
       "      <td>0.009049</td>\n",
       "      <td>0.272171</td>\n",
       "      <td>3.796886</td>\n",
       "      <td>0.006666</td>\n",
       "      <td>1.275461</td>\n",
       "    </tr>\n",
       "    <tr>\n",
       "      <th>793</th>\n",
       "      <td>(whipped/sour cream)</td>\n",
       "      <td>(berries)</td>\n",
       "      <td>0.071683</td>\n",
       "      <td>0.033249</td>\n",
       "      <td>0.009049</td>\n",
       "      <td>0.126241</td>\n",
       "      <td>3.796886</td>\n",
       "      <td>0.006666</td>\n",
       "      <td>1.106428</td>\n",
       "    </tr>\n",
       "    <tr>\n",
       "      <th>1171</th>\n",
       "      <td>(other vegetables, tropical fruit)</td>\n",
       "      <td>(yogurt, whole milk)</td>\n",
       "      <td>0.035892</td>\n",
       "      <td>0.056024</td>\n",
       "      <td>0.007626</td>\n",
       "      <td>0.212465</td>\n",
       "      <td>3.792358</td>\n",
       "      <td>0.005615</td>\n",
       "      <td>1.198645</td>\n",
       "    </tr>\n",
       "    <tr>\n",
       "      <th>1174</th>\n",
       "      <td>(yogurt, whole milk)</td>\n",
       "      <td>(other vegetables, tropical fruit)</td>\n",
       "      <td>0.056024</td>\n",
       "      <td>0.035892</td>\n",
       "      <td>0.007626</td>\n",
       "      <td>0.136116</td>\n",
       "      <td>3.792358</td>\n",
       "      <td>0.005615</td>\n",
       "      <td>1.116016</td>\n",
       "    </tr>\n",
       "    <tr>\n",
       "      <th>1052</th>\n",
       "      <td>(root vegetables)</td>\n",
       "      <td>(other vegetables, beef)</td>\n",
       "      <td>0.108998</td>\n",
       "      <td>0.019725</td>\n",
       "      <td>0.007931</td>\n",
       "      <td>0.072761</td>\n",
       "      <td>3.688692</td>\n",
       "      <td>0.005781</td>\n",
       "      <td>1.057197</td>\n",
       "    </tr>\n",
       "    <tr>\n",
       "      <th>1049</th>\n",
       "      <td>(other vegetables, beef)</td>\n",
       "      <td>(root vegetables)</td>\n",
       "      <td>0.019725</td>\n",
       "      <td>0.108998</td>\n",
       "      <td>0.007931</td>\n",
       "      <td>0.402062</td>\n",
       "      <td>3.688692</td>\n",
       "      <td>0.005781</td>\n",
       "      <td>1.490123</td>\n",
       "    </tr>\n",
       "  </tbody>\n",
       "</table>\n",
       "</div>"
      ],
      "text/plain": [
       "                             antecedents                         consequents  \\\n",
       "1170          (other vegetables, yogurt)        (tropical fruit, whole milk)   \n",
       "1175        (tropical fruit, whole milk)          (other vegetables, yogurt)   \n",
       "1090      (other vegetables, whole milk)           (root vegetables, yogurt)   \n",
       "1091           (root vegetables, yogurt)      (other vegetables, whole milk)   \n",
       "792                            (berries)                (whipped/sour cream)   \n",
       "793                 (whipped/sour cream)                           (berries)   \n",
       "1171  (other vegetables, tropical fruit)                (yogurt, whole milk)   \n",
       "1174                (yogurt, whole milk)  (other vegetables, tropical fruit)   \n",
       "1052                   (root vegetables)            (other vegetables, beef)   \n",
       "1049            (other vegetables, beef)                   (root vegetables)   \n",
       "\n",
       "      antecedent support  consequent support   support  confidence      lift  \\\n",
       "1170            0.043416            0.042298  0.007626    0.175644  4.152546   \n",
       "1175            0.042298            0.043416  0.007626    0.180288  4.152546   \n",
       "1090            0.074835            0.025826  0.007829    0.104620  4.050919   \n",
       "1091            0.025826            0.074835  0.007829    0.303150  4.050919   \n",
       "792             0.033249            0.071683  0.009049    0.272171  3.796886   \n",
       "793             0.071683            0.033249  0.009049    0.126241  3.796886   \n",
       "1171            0.035892            0.056024  0.007626    0.212465  3.792358   \n",
       "1174            0.056024            0.035892  0.007626    0.136116  3.792358   \n",
       "1052            0.108998            0.019725  0.007931    0.072761  3.688692   \n",
       "1049            0.019725            0.108998  0.007931    0.402062  3.688692   \n",
       "\n",
       "      leverage  conviction  \n",
       "1170  0.005789    1.161758  \n",
       "1175  0.005789    1.166976  \n",
       "1090  0.005896    1.088000  \n",
       "1091  0.005896    1.327638  \n",
       "792   0.006666    1.275461  \n",
       "793   0.006666    1.106428  \n",
       "1171  0.005615    1.198645  \n",
       "1174  0.005615    1.116016  \n",
       "1052  0.005781    1.057197  \n",
       "1049  0.005781    1.490123  "
      ]
     },
     "execution_count": 35,
     "metadata": {},
     "output_type": "execute_result"
    }
   ],
   "source": [
    "rules = association_rules(frequent_items, metric = \"lift\", min_threshold = 1)\n",
    "rules.head(20)\n",
    "rules.sort_values('lift', ascending = False).head(10)"
   ]
  },
  {
   "cell_type": "markdown",
   "id": "039b075e",
   "metadata": {},
   "source": [
    "### A film distribution company wants to target audience based on their likes and dislikes, you as a Chief Data Scientist Analyze the data and come up with different rules of movie list so that the business objective is achieved."
   ]
  },
  {
   "cell_type": "code",
   "execution_count": 38,
   "id": "fa7f440d",
   "metadata": {},
   "outputs": [],
   "source": [
    "import pandas as pd \n",
    "from mlxtend.frequent_patterns import apriori, association_rules"
   ]
  },
  {
   "cell_type": "code",
   "execution_count": 40,
   "id": "d2b314b0",
   "metadata": {},
   "outputs": [],
   "source": [
    "with open (r\"C:\\Users\\tarun\\Documents\\taruns imp\\Data science material\\assignments\\SETS\\Assiociation rules\\my_movies.csv\")as f:\n",
    "    movies =f.read()"
   ]
  },
  {
   "cell_type": "code",
   "execution_count": 41,
   "id": "e23e2100",
   "metadata": {},
   "outputs": [],
   "source": [
    "movies=movies.split(\"\\n\")"
   ]
  },
  {
   "cell_type": "code",
   "execution_count": 42,
   "id": "5268bf04",
   "metadata": {},
   "outputs": [],
   "source": [
    "movies_list=[]\n",
    "for i in movies:\n",
    "    movies_list.append(i.split(\",\"))"
   ]
  },
  {
   "cell_type": "code",
   "execution_count": 45,
   "id": "ffd17dde",
   "metadata": {},
   "outputs": [],
   "source": [
    "all_movies_list=[i for item in movies_list for i in item]"
   ]
  },
  {
   "cell_type": "code",
   "execution_count": 48,
   "id": "ec02ace1",
   "metadata": {},
   "outputs": [],
   "source": [
    "from collections import Counter "
   ]
  },
  {
   "cell_type": "code",
   "execution_count": 52,
   "id": "e9ce323b",
   "metadata": {},
   "outputs": [],
   "source": [
    "item_frequencies=Counter(all_movies_list)"
   ]
  },
  {
   "cell_type": "code",
   "execution_count": 56,
   "id": "ae9ec751",
   "metadata": {},
   "outputs": [],
   "source": [
    "item_frequencies=sorted(item_frequencies.items(),key=lambda x:x[1])"
   ]
  },
  {
   "cell_type": "code",
   "execution_count": 59,
   "id": "86d529eb",
   "metadata": {},
   "outputs": [],
   "source": [
    "frequencies=list(reversed([i[1]for i in item_frequenciens]))"
   ]
  },
  {
   "cell_type": "code",
   "execution_count": 60,
   "id": "57112919",
   "metadata": {},
   "outputs": [],
   "source": [
    "items = list(reversed([i[0]for i in item_frequenciens]))"
   ]
  },
  {
   "cell_type": "code",
   "execution_count": 61,
   "id": "59d60a1e",
   "metadata": {},
   "outputs": [],
   "source": [
    "import matplotlib.pyplot as plt"
   ]
  },
  {
   "cell_type": "code",
   "execution_count": 63,
   "id": "38f657cf",
   "metadata": {},
   "outputs": [
    {
     "data": {
      "text/plain": [
       "<BarContainer object of 11 artists>"
      ]
     },
     "execution_count": 63,
     "metadata": {},
     "output_type": "execute_result"
    },
    {
     "data": {
      "image/png": "[encoded data removed]",
      "text/plain": [
       "<Figure size 432x288 with 1 Axes>"
      ]
     },
     "metadata": {
      "needs_background": "light"
     },
     "output_type": "display_data"
    }
   ],
   "source": [
    "plt.bar(height=frequencies[0:11],x=list(range(0,11)),color=\"black\")\n"
   ]
  },
  {
   "cell_type": "code",
   "execution_count": 65,
   "id": "29eb2687",
   "metadata": {},
   "outputs": [],
   "source": [
    "movies_series= pd.DataFrame(pd.Series(movies_list))\n",
    "movies_series=movies_series.iloc[:9835,:]"
   ]
  },
  {
   "cell_type": "code",
   "execution_count": 66,
   "id": "76c6fd1a",
   "metadata": {},
   "outputs": [],
   "source": [
    "movies_series.columns=[\"transactions\"]"
   ]
  },
  {
   "cell_type": "code",
   "execution_count": 67,
   "id": "174136e7",
   "metadata": {},
   "outputs": [],
   "source": [
    "x=movies_series['transactions'].str.join(sep=\"*\").str.get_dummies(sep=\"*\")"
   ]
  },
  {
   "cell_type": "code",
   "execution_count": 72,
   "id": "5706bfd9",
   "metadata": {},
   "outputs": [
    {
     "name": "stderr",
     "output_type": "stream",
     "text": [
      "C:\\Users\\tarun\\anaconda3\\lib\\site-packages\\mlxtend\\frequent_patterns\\fpcommon.py:111: DeprecationWarning: DataFrames with non-bool types result in worse computationalperformance and their support might be discontinued in the future.Please use a DataFrame with bool type\n",
      "  warnings.warn(\n"
     ]
    }
   ],
   "source": [
    "frequent_itemsets = apriori(x, min_support = 0.0075, max_len = 4, use_colnames = True)"
   ]
  },
  {
   "cell_type": "code",
   "execution_count": 73,
   "id": "0cf76048",
   "metadata": {},
   "outputs": [],
   "source": [
    "frequent_itemsets.sort_values('support',ascending=False,inplace=True)"
   ]
  },
  {
   "cell_type": "code",
   "execution_count": 79,
   "id": "054bbf72",
   "metadata": {},
   "outputs": [
    {
     "data": {
      "text/plain": [
       "<BarContainer object of 11 artists>"
      ]
     },
     "execution_count": 79,
     "metadata": {},
     "output_type": "execute_result"
    },
    {
     "data": {
      "image/png": "[encoded data removed]",
      "text/plain": [
       "<Figure size 432x288 with 1 Axes>"
      ]
     },
     "metadata": {
      "needs_background": "light"
     },
     "output_type": "display_data"
    }
   ],
   "source": [
    "plt.bar(x = list(range(0, 11)), height = frequent_itemsets.support[0:11], color ='blue')"
   ]
  },
  {
   "cell_type": "code",
   "execution_count": 81,
   "id": "33b54d3c",
   "metadata": {},
   "outputs": [
    {
     "data": {
      "text/html": [
       "<div>\n",
       "<style scoped>\n",
       "    .dataframe tbody tr th:only-of-type {\n",
       "        vertical-align: middle;\n",
       "    }\n",
       "\n",
       "    .dataframe tbody tr th {\n",
       "        vertical-align: top;\n",
       "    }\n",
       "\n",
       "    .dataframe thead th {\n",
       "        text-align: right;\n",
       "    }\n",
       "</style>\n",
       "<table border=\"1\" class=\"dataframe\">\n",
       "  <thead>\n",
       "    <tr style=\"text-align: right;\">\n",
       "      <th></th>\n",
       "      <th>antecedents</th>\n",
       "      <th>consequents</th>\n",
       "      <th>antecedent support</th>\n",
       "      <th>consequent support</th>\n",
       "      <th>support</th>\n",
       "      <th>confidence</th>\n",
       "      <th>lift</th>\n",
       "      <th>leverage</th>\n",
       "      <th>conviction</th>\n",
       "    </tr>\n",
       "  </thead>\n",
       "  <tbody>\n",
       "    <tr>\n",
       "      <th>22615</th>\n",
       "      <td>(V3)</td>\n",
       "      <td>(V5, V2, V4)</td>\n",
       "      <td>0.083333</td>\n",
       "      <td>0.083333</td>\n",
       "      <td>0.083333</td>\n",
       "      <td>1.0</td>\n",
       "      <td>12.0</td>\n",
       "      <td>0.076389</td>\n",
       "      <td>inf</td>\n",
       "    </tr>\n",
       "    <tr>\n",
       "      <th>20201</th>\n",
       "      <td>(LOTR2, Sixth Sense, LOTR)</td>\n",
       "      <td>(V4)</td>\n",
       "      <td>0.083333</td>\n",
       "      <td>0.083333</td>\n",
       "      <td>0.083333</td>\n",
       "      <td>1.0</td>\n",
       "      <td>12.0</td>\n",
       "      <td>0.076389</td>\n",
       "      <td>inf</td>\n",
       "    </tr>\n",
       "    <tr>\n",
       "      <th>10521</th>\n",
       "      <td>(Harry Potter2, Gladiator, LOTR1)</td>\n",
       "      <td>(V2)</td>\n",
       "      <td>0.083333</td>\n",
       "      <td>0.083333</td>\n",
       "      <td>0.083333</td>\n",
       "      <td>1.0</td>\n",
       "      <td>12.0</td>\n",
       "      <td>0.076389</td>\n",
       "      <td>inf</td>\n",
       "    </tr>\n",
       "    <tr>\n",
       "      <th>20203</th>\n",
       "      <td>(V4, Sixth Sense)</td>\n",
       "      <td>(LOTR2, LOTR)</td>\n",
       "      <td>0.083333</td>\n",
       "      <td>0.083333</td>\n",
       "      <td>0.083333</td>\n",
       "      <td>1.0</td>\n",
       "      <td>12.0</td>\n",
       "      <td>0.076389</td>\n",
       "      <td>inf</td>\n",
       "    </tr>\n",
       "    <tr>\n",
       "      <th>10524</th>\n",
       "      <td>(Harry Potter2, Gladiator)</td>\n",
       "      <td>(V2, LOTR1)</td>\n",
       "      <td>0.083333</td>\n",
       "      <td>0.083333</td>\n",
       "      <td>0.083333</td>\n",
       "      <td>1.0</td>\n",
       "      <td>12.0</td>\n",
       "      <td>0.076389</td>\n",
       "      <td>inf</td>\n",
       "    </tr>\n",
       "    <tr>\n",
       "      <th>10525</th>\n",
       "      <td>(Harry Potter2, V2)</td>\n",
       "      <td>(Gladiator, LOTR1)</td>\n",
       "      <td>0.083333</td>\n",
       "      <td>0.083333</td>\n",
       "      <td>0.083333</td>\n",
       "      <td>1.0</td>\n",
       "      <td>12.0</td>\n",
       "      <td>0.076389</td>\n",
       "      <td>inf</td>\n",
       "    </tr>\n",
       "    <tr>\n",
       "      <th>10526</th>\n",
       "      <td>(Harry Potter2, LOTR1)</td>\n",
       "      <td>(Gladiator, V2)</td>\n",
       "      <td>0.083333</td>\n",
       "      <td>0.083333</td>\n",
       "      <td>0.083333</td>\n",
       "      <td>1.0</td>\n",
       "      <td>12.0</td>\n",
       "      <td>0.076389</td>\n",
       "      <td>inf</td>\n",
       "    </tr>\n",
       "    <tr>\n",
       "      <th>10527</th>\n",
       "      <td>(Gladiator, V2)</td>\n",
       "      <td>(Harry Potter2, LOTR1)</td>\n",
       "      <td>0.083333</td>\n",
       "      <td>0.083333</td>\n",
       "      <td>0.083333</td>\n",
       "      <td>1.0</td>\n",
       "      <td>12.0</td>\n",
       "      <td>0.076389</td>\n",
       "      <td>inf</td>\n",
       "    </tr>\n",
       "    <tr>\n",
       "      <th>10528</th>\n",
       "      <td>(Gladiator, LOTR1)</td>\n",
       "      <td>(Harry Potter2, V2)</td>\n",
       "      <td>0.083333</td>\n",
       "      <td>0.083333</td>\n",
       "      <td>0.083333</td>\n",
       "      <td>1.0</td>\n",
       "      <td>12.0</td>\n",
       "      <td>0.076389</td>\n",
       "      <td>inf</td>\n",
       "    </tr>\n",
       "    <tr>\n",
       "      <th>10529</th>\n",
       "      <td>(V2, LOTR1)</td>\n",
       "      <td>(Harry Potter2, Gladiator)</td>\n",
       "      <td>0.083333</td>\n",
       "      <td>0.083333</td>\n",
       "      <td>0.083333</td>\n",
       "      <td>1.0</td>\n",
       "      <td>12.0</td>\n",
       "      <td>0.076389</td>\n",
       "      <td>inf</td>\n",
       "    </tr>\n",
       "  </tbody>\n",
       "</table>\n",
       "</div>"
      ],
      "text/plain": [
       "                             antecedents                 consequents  \\\n",
       "22615                               (V3)                (V5, V2, V4)   \n",
       "20201         (LOTR2, Sixth Sense, LOTR)                        (V4)   \n",
       "10521  (Harry Potter2, Gladiator, LOTR1)                        (V2)   \n",
       "20203                  (V4, Sixth Sense)               (LOTR2, LOTR)   \n",
       "10524         (Harry Potter2, Gladiator)                 (V2, LOTR1)   \n",
       "10525                (Harry Potter2, V2)          (Gladiator, LOTR1)   \n",
       "10526             (Harry Potter2, LOTR1)             (Gladiator, V2)   \n",
       "10527                    (Gladiator, V2)      (Harry Potter2, LOTR1)   \n",
       "10528                 (Gladiator, LOTR1)         (Harry Potter2, V2)   \n",
       "10529                        (V2, LOTR1)  (Harry Potter2, Gladiator)   \n",
       "\n",
       "       antecedent support  consequent support   support  confidence  lift  \\\n",
       "22615            0.083333            0.083333  0.083333         1.0  12.0   \n",
       "20201            0.083333            0.083333  0.083333         1.0  12.0   \n",
       "10521            0.083333            0.083333  0.083333         1.0  12.0   \n",
       "20203            0.083333            0.083333  0.083333         1.0  12.0   \n",
       "10524            0.083333            0.083333  0.083333         1.0  12.0   \n",
       "10525            0.083333            0.083333  0.083333         1.0  12.0   \n",
       "10526            0.083333            0.083333  0.083333         1.0  12.0   \n",
       "10527            0.083333            0.083333  0.083333         1.0  12.0   \n",
       "10528            0.083333            0.083333  0.083333         1.0  12.0   \n",
       "10529            0.083333            0.083333  0.083333         1.0  12.0   \n",
       "\n",
       "       leverage  conviction  \n",
       "22615  0.076389         inf  \n",
       "20201  0.076389         inf  \n",
       "10521  0.076389         inf  \n",
       "20203  0.076389         inf  \n",
       "10524  0.076389         inf  \n",
       "10525  0.076389         inf  \n",
       "10526  0.076389         inf  \n",
       "10527  0.076389         inf  \n",
       "10528  0.076389         inf  \n",
       "10529  0.076389         inf  "
      ]
     },
     "execution_count": 81,
     "metadata": {},
     "output_type": "execute_result"
    }
   ],
   "source": [
    "rules=association_rules(frequent_items,metric=\"lift\",min_threshold=1)\n",
    "rules.head(20)\n",
    "rules.sort_values(\"lift\",ascending=False).head(10)"
   ]
  },
  {
   "cell_type": "markdown",
   "id": "d6fc8591",
   "metadata": {},
   "source": [
    "### A Mobile Phone manufacturing company wants to launch its three brand new phone into the market, but before going with its traditional marketing approach this time it want to analyze the data of its previous model sales in different regions and you have been hired as an Data Scientist to help them out, use the Association rules concept and provide your insights to the company’s marketing team to improve its sales."
   ]
  },
  {
   "cell_type": "code",
   "execution_count": 1,
   "id": "ac7e80ba",
   "metadata": {},
   "outputs": [],
   "source": [
    "import pandas as pd \n",
    "from mlxtend.frequent_patterns import apriori,association_rules"
   ]
  },
  {
   "cell_type": "code",
   "execution_count": 2,
   "id": "3a64ec71",
   "metadata": {},
   "outputs": [],
   "source": [
    "with open(r\"C:\\Users\\tarun\\Documents\\taruns imp\\Data science material\\assignments\\SETS\\Assiociation rules\\myphonedata.csv\") as f:\n",
    "    phone=f.read()"
   ]
  },
  {
   "cell_type": "code",
   "execution_count": 3,
   "id": "62b1f691",
   "metadata": {},
   "outputs": [],
   "source": [
    "phone=phone.split(\"\\n\")"
   ]
  },
  {
   "cell_type": "code",
   "execution_count": 4,
   "id": "92cb3216",
   "metadata": {},
   "outputs": [],
   "source": [
    "phone_list=[]\n",
    "for i in phone:\n",
    "    phone_list.append(i.split(\",\"))"
   ]
  },
  {
   "cell_type": "code",
   "execution_count": 5,
   "id": "573ea1b7",
   "metadata": {},
   "outputs": [],
   "source": [
    "all_phone_list=[i for item in phone_list for i in item ]"
   ]
  },
  {
   "cell_type": "code",
   "execution_count": 7,
   "id": "ccb489ce",
   "metadata": {},
   "outputs": [],
   "source": [
    "from collections import Counter"
   ]
  },
  {
   "cell_type": "code",
   "execution_count": 8,
   "id": "10947c85",
   "metadata": {},
   "outputs": [],
   "source": [
    "item_frequencies = Counter(all_phone_list)"
   ]
  },
  {
   "cell_type": "code",
   "execution_count": 10,
   "id": "2accc850",
   "metadata": {},
   "outputs": [],
   "source": [
    "item_frequencies = sorted(item_frequencies.items(), key = lambda x:x[1])"
   ]
  },
  {
   "cell_type": "code",
   "execution_count": 12,
   "id": "84613ed2",
   "metadata": {},
   "outputs": [],
   "source": [
    "frequencies=list(reversed([i[1]for i in item_frequencies]))"
   ]
  },
  {
   "cell_type": "code",
   "execution_count": 13,
   "id": "8069885a",
   "metadata": {},
   "outputs": [],
   "source": [
    "item=list(reversed([i[0]for i in item_frequencies]))"
   ]
  },
  {
   "cell_type": "code",
   "execution_count": 14,
   "id": "879ce6b5",
   "metadata": {},
   "outputs": [],
   "source": [
    "import matplotlib.pyplot as plt"
   ]
  },
  {
   "cell_type": "code",
   "execution_count": 17,
   "id": "7dcba25e",
   "metadata": {},
   "outputs": [
    {
     "data": {
      "image/png": "[encoded data removed]",
      "text/plain": [
       "<Figure size 432x288 with 1 Axes>"
      ]
     },
     "metadata": {
      "needs_background": "light"
     },
     "output_type": "display_data"
    }
   ],
   "source": [
    "plt.bar(height = frequencies[0:11], x = list(range(0, 11)), color = 'green')\n",
    "plt.xticks(list(range(0, 11), ), item[0:11])\n",
    "plt.xlabel(\"items\")\n",
    "plt.ylabel(\"Count\")\n",
    "plt.show()"
   ]
  },
  {
   "cell_type": "code",
   "execution_count": 18,
   "id": "1135b664",
   "metadata": {},
   "outputs": [],
   "source": [
    "phone_series = pd.DataFrame(pd.Series(phone_list))\n",
    "phone_series = phone_series.iloc[:9835, :]"
   ]
  },
  {
   "cell_type": "code",
   "execution_count": 19,
   "id": "78c2dd5f",
   "metadata": {},
   "outputs": [],
   "source": [
    "phone_series.columns = [\"transactions\"]"
   ]
  },
  {
   "cell_type": "code",
   "execution_count": 20,
   "id": "0dceab58",
   "metadata": {},
   "outputs": [],
   "source": [
    "X = phone_series['transactions'].str.join(sep = '*').str.get_dummies(sep = '*')"
   ]
  },
  {
   "cell_type": "code",
   "execution_count": 25,
   "id": "99d894f3",
   "metadata": {},
   "outputs": [
    {
     "name": "stderr",
     "output_type": "stream",
     "text": [
      "C:\\Users\\tarun\\anaconda3\\lib\\site-packages\\mlxtend\\frequent_patterns\\fpcommon.py:111: DeprecationWarning: DataFrames with non-bool types result in worse computationalperformance and their support might be discontinued in the future.Please use a DataFrame with bool type\n",
      "  warnings.warn(\n"
     ]
    }
   ],
   "source": [
    "frequent_itemsets = apriori(X, min_support = 0.0075, max_len = 4, use_colnames = True)"
   ]
  },
  {
   "cell_type": "code",
   "execution_count": 26,
   "id": "4189aa7b",
   "metadata": {},
   "outputs": [],
   "source": [
    "frequent_itemsets.sort_values('support', ascending = False, inplace = True)"
   ]
  },
  {
   "cell_type": "code",
   "execution_count": 28,
   "id": "bf67eb3d",
   "metadata": {},
   "outputs": [
    {
     "data": {
      "text/plain": [
       "<BarContainer object of 11 artists>"
      ]
     },
     "execution_count": 28,
     "metadata": {},
     "output_type": "execute_result"
    },
    {
     "data": {
      "image/png": "[encoded data removed]",
      "text/plain": [
       "<Figure size 432x288 with 1 Axes>"
      ]
     },
     "metadata": {
      "needs_background": "light"
     },
     "output_type": "display_data"
    }
   ],
   "source": [
    "plt.bar(x = list(range(0, 11)), height = frequent_itemsets.support[0:11], color ='green')"
   ]
  },
  {
   "cell_type": "code",
   "execution_count": 29,
   "id": "68222c94",
   "metadata": {},
   "outputs": [
    {
     "data": {
      "text/html": [
       "<div>\n",
       "<style scoped>\n",
       "    .dataframe tbody tr th:only-of-type {\n",
       "        vertical-align: middle;\n",
       "    }\n",
       "\n",
       "    .dataframe tbody tr th {\n",
       "        vertical-align: top;\n",
       "    }\n",
       "\n",
       "    .dataframe thead th {\n",
       "        text-align: right;\n",
       "    }\n",
       "</style>\n",
       "<table border=\"1\" class=\"dataframe\">\n",
       "  <thead>\n",
       "    <tr style=\"text-align: right;\">\n",
       "      <th></th>\n",
       "      <th>antecedents</th>\n",
       "      <th>consequents</th>\n",
       "      <th>antecedent support</th>\n",
       "      <th>consequent support</th>\n",
       "      <th>support</th>\n",
       "      <th>confidence</th>\n",
       "      <th>lift</th>\n",
       "      <th>leverage</th>\n",
       "      <th>conviction</th>\n",
       "    </tr>\n",
       "  </thead>\n",
       "  <tbody>\n",
       "    <tr>\n",
       "      <th>1318</th>\n",
       "      <td>(\"yellow\", \"blue\")</td>\n",
       "      <td>(\"V3\", \"red\")</td>\n",
       "      <td>0.076923</td>\n",
       "      <td>0.076923</td>\n",
       "      <td>0.076923</td>\n",
       "      <td>1.0</td>\n",
       "      <td>13.0</td>\n",
       "      <td>0.071006</td>\n",
       "      <td>inf</td>\n",
       "    </tr>\n",
       "    <tr>\n",
       "      <th>704</th>\n",
       "      <td>(\"yellow\", \"V1\", \"blue\")</td>\n",
       "      <td>(\"V2\")</td>\n",
       "      <td>0.076923</td>\n",
       "      <td>0.076923</td>\n",
       "      <td>0.076923</td>\n",
       "      <td>1.0</td>\n",
       "      <td>13.0</td>\n",
       "      <td>0.071006</td>\n",
       "      <td>inf</td>\n",
       "    </tr>\n",
       "    <tr>\n",
       "      <th>1063</th>\n",
       "      <td>(\"V2\")</td>\n",
       "      <td>(\"orange\", \"V3\", \"green\")</td>\n",
       "      <td>0.076923</td>\n",
       "      <td>0.076923</td>\n",
       "      <td>0.076923</td>\n",
       "      <td>1.0</td>\n",
       "      <td>13.0</td>\n",
       "      <td>0.071006</td>\n",
       "      <td>inf</td>\n",
       "    </tr>\n",
       "    <tr>\n",
       "      <th>1062</th>\n",
       "      <td>(\"V3\")</td>\n",
       "      <td>(\"orange\", \"V2\", \"green\")</td>\n",
       "      <td>0.076923</td>\n",
       "      <td>0.076923</td>\n",
       "      <td>0.076923</td>\n",
       "      <td>1.0</td>\n",
       "      <td>13.0</td>\n",
       "      <td>0.071006</td>\n",
       "      <td>inf</td>\n",
       "    </tr>\n",
       "    <tr>\n",
       "      <th>1061</th>\n",
       "      <td>(\"orange\", \"green\")</td>\n",
       "      <td>(\"V2\", \"V3\")</td>\n",
       "      <td>0.076923</td>\n",
       "      <td>0.076923</td>\n",
       "      <td>0.076923</td>\n",
       "      <td>1.0</td>\n",
       "      <td>13.0</td>\n",
       "      <td>0.071006</td>\n",
       "      <td>inf</td>\n",
       "    </tr>\n",
       "    <tr>\n",
       "      <th>1060</th>\n",
       "      <td>(\"V2\", \"green\")</td>\n",
       "      <td>(\"orange\", \"V3\")</td>\n",
       "      <td>0.076923</td>\n",
       "      <td>0.076923</td>\n",
       "      <td>0.076923</td>\n",
       "      <td>1.0</td>\n",
       "      <td>13.0</td>\n",
       "      <td>0.071006</td>\n",
       "      <td>inf</td>\n",
       "    </tr>\n",
       "    <tr>\n",
       "      <th>1059</th>\n",
       "      <td>(\"orange\", \"V2\")</td>\n",
       "      <td>(\"V3\", \"green\")</td>\n",
       "      <td>0.076923</td>\n",
       "      <td>0.076923</td>\n",
       "      <td>0.076923</td>\n",
       "      <td>1.0</td>\n",
       "      <td>13.0</td>\n",
       "      <td>0.071006</td>\n",
       "      <td>inf</td>\n",
       "    </tr>\n",
       "    <tr>\n",
       "      <th>1058</th>\n",
       "      <td>(\"V3\", \"green\")</td>\n",
       "      <td>(\"orange\", \"V2\")</td>\n",
       "      <td>0.076923</td>\n",
       "      <td>0.076923</td>\n",
       "      <td>0.076923</td>\n",
       "      <td>1.0</td>\n",
       "      <td>13.0</td>\n",
       "      <td>0.071006</td>\n",
       "      <td>inf</td>\n",
       "    </tr>\n",
       "    <tr>\n",
       "      <th>1057</th>\n",
       "      <td>(\"orange\", \"V3\")</td>\n",
       "      <td>(\"V2\", \"green\")</td>\n",
       "      <td>0.076923</td>\n",
       "      <td>0.076923</td>\n",
       "      <td>0.076923</td>\n",
       "      <td>1.0</td>\n",
       "      <td>13.0</td>\n",
       "      <td>0.071006</td>\n",
       "      <td>inf</td>\n",
       "    </tr>\n",
       "    <tr>\n",
       "      <th>1056</th>\n",
       "      <td>(\"V2\", \"V3\")</td>\n",
       "      <td>(\"orange\", \"green\")</td>\n",
       "      <td>0.076923</td>\n",
       "      <td>0.076923</td>\n",
       "      <td>0.076923</td>\n",
       "      <td>1.0</td>\n",
       "      <td>13.0</td>\n",
       "      <td>0.071006</td>\n",
       "      <td>inf</td>\n",
       "    </tr>\n",
       "  </tbody>\n",
       "</table>\n",
       "</div>"
      ],
      "text/plain": [
       "                   antecedents                consequents  antecedent support  \\\n",
       "1318        (\"yellow\", \"blue\")              (\"V3\", \"red\")            0.076923   \n",
       "704   (\"yellow\", \"V1\", \"blue\")                     (\"V2\")            0.076923   \n",
       "1063                    (\"V2\")  (\"orange\", \"V3\", \"green\")            0.076923   \n",
       "1062                    (\"V3\")  (\"orange\", \"V2\", \"green\")            0.076923   \n",
       "1061       (\"orange\", \"green\")               (\"V2\", \"V3\")            0.076923   \n",
       "1060           (\"V2\", \"green\")           (\"orange\", \"V3\")            0.076923   \n",
       "1059          (\"orange\", \"V2\")            (\"V3\", \"green\")            0.076923   \n",
       "1058           (\"V3\", \"green\")           (\"orange\", \"V2\")            0.076923   \n",
       "1057          (\"orange\", \"V3\")            (\"V2\", \"green\")            0.076923   \n",
       "1056              (\"V2\", \"V3\")        (\"orange\", \"green\")            0.076923   \n",
       "\n",
       "      consequent support   support  confidence  lift  leverage  conviction  \n",
       "1318            0.076923  0.076923         1.0  13.0  0.071006         inf  \n",
       "704             0.076923  0.076923         1.0  13.0  0.071006         inf  \n",
       "1063            0.076923  0.076923         1.0  13.0  0.071006         inf  \n",
       "1062            0.076923  0.076923         1.0  13.0  0.071006         inf  \n",
       "1061            0.076923  0.076923         1.0  13.0  0.071006         inf  \n",
       "1060            0.076923  0.076923         1.0  13.0  0.071006         inf  \n",
       "1059            0.076923  0.076923         1.0  13.0  0.071006         inf  \n",
       "1058            0.076923  0.076923         1.0  13.0  0.071006         inf  \n",
       "1057            0.076923  0.076923         1.0  13.0  0.071006         inf  \n",
       "1056            0.076923  0.076923         1.0  13.0  0.071006         inf  "
      ]
     },
     "execution_count": 29,
     "metadata": {},
     "output_type": "execute_result"
    }
   ],
   "source": [
    "rules = association_rules(frequent_itemsets, metric = \"lift\", min_threshold = 1)\n",
    "rules.head(20)\n",
    "rules.sort_values('lift', ascending = False).head(10)"
   ]
  },
  {
   "cell_type": "code",
   "execution_count": 33,
   "id": "692bc379",
   "metadata": {},
   "outputs": [
    {
     "data": {
      "image/png": "[encoded data removed]",
      "text/plain": [
       "<Figure size 432x288 with 1 Axes>"
      ]
     },
     "metadata": {
      "needs_background": "light"
     },
     "output_type": "display_data"
    },
    {
     "name": "stderr",
     "output_type": "stream",
     "text": [
      "C:\\Users\\tarun\\anaconda3\\lib\\site-packages\\mlxtend\\frequent_patterns\\fpcommon.py:111: DeprecationWarning: DataFrames with non-bool types result in worse computationalperformance and their support might be discontinued in the future.Please use a DataFrame with bool type\n",
      "  warnings.warn(\n"
     ]
    },
    {
     "data": {
      "image/png": "[encoded data removed]",
      "text/plain": [
       "<Figure size 432x288 with 1 Axes>"
      ]
     },
     "metadata": {
      "needs_background": "light"
     },
     "output_type": "display_data"
    },
    {
     "data": {
      "text/html": [
       "<div>\n",
       "<style scoped>\n",
       "    .dataframe tbody tr th:only-of-type {\n",
       "        vertical-align: middle;\n",
       "    }\n",
       "\n",
       "    .dataframe tbody tr th {\n",
       "        vertical-align: top;\n",
       "    }\n",
       "\n",
       "    .dataframe thead th {\n",
       "        text-align: right;\n",
       "    }\n",
       "</style>\n",
       "<table border=\"1\" class=\"dataframe\">\n",
       "  <thead>\n",
       "    <tr style=\"text-align: right;\">\n",
       "      <th></th>\n",
       "      <th>antecedents</th>\n",
       "      <th>consequents</th>\n",
       "      <th>antecedent support</th>\n",
       "      <th>consequent support</th>\n",
       "      <th>support</th>\n",
       "      <th>confidence</th>\n",
       "      <th>lift</th>\n",
       "      <th>leverage</th>\n",
       "      <th>conviction</th>\n",
       "    </tr>\n",
       "  </thead>\n",
       "  <tbody>\n",
       "    <tr>\n",
       "      <th>796</th>\n",
       "      <td>(NA, 'PLAYHOUSE')</td>\n",
       "      <td>('POPPY''S')</td>\n",
       "      <td>0.007829</td>\n",
       "      <td>0.007829</td>\n",
       "      <td>0.007829</td>\n",
       "      <td>1.000000</td>\n",
       "      <td>127.727273</td>\n",
       "      <td>0.007768</td>\n",
       "      <td>inf</td>\n",
       "    </tr>\n",
       "    <tr>\n",
       "      <th>797</th>\n",
       "      <td>('POPPY''S')</td>\n",
       "      <td>(NA, 'PLAYHOUSE')</td>\n",
       "      <td>0.007829</td>\n",
       "      <td>0.007829</td>\n",
       "      <td>0.007829</td>\n",
       "      <td>1.000000</td>\n",
       "      <td>127.727273</td>\n",
       "      <td>0.007768</td>\n",
       "      <td>inf</td>\n",
       "    </tr>\n",
       "    <tr>\n",
       "      <th>790</th>\n",
       "      <td>('POPPY''S')</td>\n",
       "      <td>('PLAYHOUSE')</td>\n",
       "      <td>0.007829</td>\n",
       "      <td>0.007829</td>\n",
       "      <td>0.007829</td>\n",
       "      <td>1.000000</td>\n",
       "      <td>127.727273</td>\n",
       "      <td>0.007768</td>\n",
       "      <td>inf</td>\n",
       "    </tr>\n",
       "    <tr>\n",
       "      <th>791</th>\n",
       "      <td>('PLAYHOUSE')</td>\n",
       "      <td>('POPPY''S')</td>\n",
       "      <td>0.007829</td>\n",
       "      <td>0.007829</td>\n",
       "      <td>0.007829</td>\n",
       "      <td>1.000000</td>\n",
       "      <td>127.727273</td>\n",
       "      <td>0.007768</td>\n",
       "      <td>inf</td>\n",
       "    </tr>\n",
       "    <tr>\n",
       "      <th>794</th>\n",
       "      <td>(NA, 'POPPY''S')</td>\n",
       "      <td>('PLAYHOUSE')</td>\n",
       "      <td>0.007829</td>\n",
       "      <td>0.007829</td>\n",
       "      <td>0.007829</td>\n",
       "      <td>1.000000</td>\n",
       "      <td>127.727273</td>\n",
       "      <td>0.007768</td>\n",
       "      <td>inf</td>\n",
       "    </tr>\n",
       "    <tr>\n",
       "      <th>799</th>\n",
       "      <td>('PLAYHOUSE')</td>\n",
       "      <td>(NA, 'POPPY''S')</td>\n",
       "      <td>0.007829</td>\n",
       "      <td>0.007829</td>\n",
       "      <td>0.007829</td>\n",
       "      <td>1.000000</td>\n",
       "      <td>127.727273</td>\n",
       "      <td>0.007768</td>\n",
       "      <td>inf</td>\n",
       "    </tr>\n",
       "    <tr>\n",
       "      <th>773</th>\n",
       "      <td>('TISSUES')</td>\n",
       "      <td>('PACK', '12')</td>\n",
       "      <td>0.007829</td>\n",
       "      <td>0.009049</td>\n",
       "      <td>0.007829</td>\n",
       "      <td>1.000000</td>\n",
       "      <td>110.505618</td>\n",
       "      <td>0.007758</td>\n",
       "      <td>inf</td>\n",
       "    </tr>\n",
       "    <tr>\n",
       "      <th>608</th>\n",
       "      <td>('REEL', NA)</td>\n",
       "      <td>('RIBBON')</td>\n",
       "      <td>0.009049</td>\n",
       "      <td>0.008948</td>\n",
       "      <td>0.008948</td>\n",
       "      <td>0.988764</td>\n",
       "      <td>110.505618</td>\n",
       "      <td>0.008867</td>\n",
       "      <td>88.20366</td>\n",
       "    </tr>\n",
       "    <tr>\n",
       "      <th>610</th>\n",
       "      <td>('REEL')</td>\n",
       "      <td>(NA, 'RIBBON')</td>\n",
       "      <td>0.009049</td>\n",
       "      <td>0.008948</td>\n",
       "      <td>0.008948</td>\n",
       "      <td>0.988764</td>\n",
       "      <td>110.505618</td>\n",
       "      <td>0.008867</td>\n",
       "      <td>88.20366</td>\n",
       "    </tr>\n",
       "    <tr>\n",
       "      <th>612</th>\n",
       "      <td>('REEL')</td>\n",
       "      <td>('RIBBON')</td>\n",
       "      <td>0.009049</td>\n",
       "      <td>0.008948</td>\n",
       "      <td>0.008948</td>\n",
       "      <td>0.988764</td>\n",
       "      <td>110.505618</td>\n",
       "      <td>0.008867</td>\n",
       "      <td>88.20366</td>\n",
       "    </tr>\n",
       "  </tbody>\n",
       "</table>\n",
       "</div>"
      ],
      "text/plain": [
       "           antecedents        consequents  antecedent support  \\\n",
       "796  (NA, 'PLAYHOUSE')       ('POPPY''S')            0.007829   \n",
       "797       ('POPPY''S')  (NA, 'PLAYHOUSE')            0.007829   \n",
       "790       ('POPPY''S')      ('PLAYHOUSE')            0.007829   \n",
       "791      ('PLAYHOUSE')       ('POPPY''S')            0.007829   \n",
       "794   (NA, 'POPPY''S')      ('PLAYHOUSE')            0.007829   \n",
       "799      ('PLAYHOUSE')   (NA, 'POPPY''S')            0.007829   \n",
       "773        ('TISSUES')     ('PACK', '12')            0.007829   \n",
       "608       ('REEL', NA)         ('RIBBON')            0.009049   \n",
       "610           ('REEL')     (NA, 'RIBBON')            0.009049   \n",
       "612           ('REEL')         ('RIBBON')            0.009049   \n",
       "\n",
       "     consequent support   support  confidence        lift  leverage  \\\n",
       "796            0.007829  0.007829    1.000000  127.727273  0.007768   \n",
       "797            0.007829  0.007829    1.000000  127.727273  0.007768   \n",
       "790            0.007829  0.007829    1.000000  127.727273  0.007768   \n",
       "791            0.007829  0.007829    1.000000  127.727273  0.007768   \n",
       "794            0.007829  0.007829    1.000000  127.727273  0.007768   \n",
       "799            0.007829  0.007829    1.000000  127.727273  0.007768   \n",
       "773            0.009049  0.007829    1.000000  110.505618  0.007758   \n",
       "608            0.008948  0.008948    0.988764  110.505618  0.008867   \n",
       "610            0.008948  0.008948    0.988764  110.505618  0.008867   \n",
       "612            0.008948  0.008948    0.988764  110.505618  0.008867   \n",
       "\n",
       "     conviction  \n",
       "796         inf  \n",
       "797         inf  \n",
       "790         inf  \n",
       "791         inf  \n",
       "794         inf  \n",
       "799         inf  \n",
       "773         inf  \n",
       "608    88.20366  \n",
       "610    88.20366  \n",
       "612    88.20366  "
      ]
     },
     "execution_count": 33,
     "metadata": {},
     "output_type": "execute_result"
    }
   ],
   "source": [
    "#Problem Statement: - \n",
    "\n",
    "\n",
    "import pandas as pd\n",
    "from mlxtend.frequent_patterns import apriori, association_rules\n",
    "with open(r\"C:\\Users\\tarun\\Documents\\taruns imp\\Data science material\\assignments\\SETS\\Assiociation rules\\transactions_retail1.csv\") as f:\n",
    "    retail = f.read()\n",
    "\n",
    "retail = retail.split(\"\\n\")\n",
    "\n",
    "retail_list = []\n",
    "for i in retail:\n",
    "    retail_list.append(i.split(\",\"))\n",
    "\n",
    "all_retail_list = [i for item in retail_list for i in item]\n",
    "\n",
    "from collections import Counter \n",
    "\n",
    "item_frequencies = Counter(all_retail_list)\n",
    "\n",
    "\n",
    "item_frequencies = sorted(item_frequencies.items(), key = lambda x:x[1])\n",
    "\n",
    "\n",
    "frequencies = list(reversed([i[1] for i in item_frequencies]))\n",
    "items = list(reversed([i[0] for i in item_frequencies]))\n",
    "\n",
    "\n",
    "import matplotlib.pyplot as plt\n",
    "\n",
    "plt.bar(height = frequencies[0:11], x = list(range(0, 11)), color = 'black')\n",
    "plt.xticks(list(range(0, 11), ), items[0:11])\n",
    "plt.xlabel(\"items\")\n",
    "plt.ylabel(\"Count\")\n",
    "plt.show()\n",
    "\n",
    "\n",
    "\n",
    "retail_series = pd.DataFrame(pd.Series(retail_list))\n",
    "retail_series = retail_series.iloc[:9835, :]\n",
    "\n",
    "retail_series.columns = [\"transactions\"]\n",
    "\n",
    "\n",
    "X = retail_series['transactions'].str.join(sep = '*').str.get_dummies(sep = '*')\n",
    "\n",
    "frequent_itemsets = apriori(X, min_support = 0.0075, max_len = 4, use_colnames = True)\n",
    "\n",
    "frequent_itemsets.sort_values('support', ascending = False, inplace = True)\n",
    "\n",
    "plt.bar(x = list(range(0, 11)), height = frequent_itemsets.support[0:11], color ='black')\n",
    "plt.xticks(list(range(0, 11)), frequent_itemsets.itemsets[0:11], rotation=20)\n",
    "plt.xlabel('item-sets')\n",
    "plt.ylabel('support')\n",
    "plt.show()\n",
    "\n",
    "rules = association_rules(frequent_itemsets, metric = \"lift\", min_threshold = 1)\n",
    "rules.head(20)\n",
    "rules.sort_values('lift', ascending = False).head(10)"
   ]
  },
  {
   "cell_type": "code",
   "execution_count": null,
   "id": "39534c6b",
   "metadata": {},
   "outputs": [],
   "source": []
  }
 ],
 "metadata": {
  "kernelspec": {
   "display_name": "Python 3 (ipykernel)",
   "language": "python",
   "name": "python3"
  },
  "language_info": {
   "codemirror_mode": {
    "name": "ipython",
    "version": 3
   },
   "file_extension": ".py",
   "mimetype": "text/x-python",
   "name": "python",
   "nbconvert_exporter": "python",
   "pygments_lexer": "ipython3",
   "version": "3.9.7"
  }
 },
 "nbformat": 4,
 "nbformat_minor": 5
}
