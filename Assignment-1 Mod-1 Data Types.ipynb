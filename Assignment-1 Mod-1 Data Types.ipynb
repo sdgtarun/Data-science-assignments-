{
 "cells": [
  {
   "cell_type": "markdown",
   "metadata": {},
   "source": [
    "## Module1: Data Types"
   ]
  },
  {
   "cell_type": "markdown",
   "metadata": {},
   "source": [
    "#### 1. Construct 2 lists containing all the available data types (interger, float, string, complex, and boolean) and do the following\n",
    "    #### a. Create another list by concatenating above 2 lists\n",
    "    #### b. Find the frequency of each element in the concatenated list\n",
    "    #### c. Print the list in reverse order"
   ]
  },
  {
   "cell_type": "code",
   "execution_count": null,
   "metadata": {},
   "outputs": [],
   "source": [
    "list1 = [5, 3.2, \"Aish\", (2+3j), True]\n",
    "list2 = [2, 2.3, \"Snehal\", (3+4j), False]"
   ]
  },
  {
   "cell_type": "code",
   "execution_count": null,
   "metadata": {},
   "outputs": [],
   "source": [
    "# a. Create another list by concatenating above 2 lists\n",
    "list3 = list1 + list2\n",
    "print(list3)"
   ]
  },
  {
   "cell_type": "code",
   "execution_count": null,
   "metadata": {},
   "outputs": [],
   "source": [
    "# b. Find the frequency of each element in the concatenated list\n",
    "def CountFrequency(x):\n",
    "    freq = {}\n",
    "    for item in list3:\n",
    "        if item in freq:\n",
    "            freq[item] += 1\n",
    "        else:\n",
    "            freq[item] = 1\n",
    "    for key, value in freq.items():\n",
    "        print('%s:%s' %(key, value))\n",
    "CountFrequency(list3)"
   ]
  },
  {
   "cell_type": "code",
   "execution_count": null,
   "metadata": {},
   "outputs": [],
   "source": [
    "# c. Print the list in reverse order\n",
    "print(list3[::-1])"
   ]
  },
  {
   "cell_type": "code",
   "execution_count": null,
   "metadata": {},
   "outputs": [],
   "source": [
    "list3"
   ]
  },
  {
   "cell_type": "markdown",
   "metadata": {},
   "source": [
    "## Problem 2"
   ]
  },
  {
   "cell_type": "markdown",
   "metadata": {},
   "source": [
    "#### Create 2 sets containing intergers (numbers from 1 to 10 in one set and 5 to 15 in other set).\n",
    "#### a. Find the common elements in above 2 sets\n",
    "#### b. Find the elements that are not common\n",
    "#### c. Remove element 7 from both the sets"
   ]
  },
  {
   "cell_type": "code",
   "execution_count": null,
   "metadata": {},
   "outputs": [],
   "source": [
    "set1 = {1,2,3,4,5,6,7,8,9,10}\n",
    "print(set1)"
   ]
  },
  {
   "cell_type": "code",
   "execution_count": null,
   "metadata": {},
   "outputs": [],
   "source": [
    "set2 = {5,6,7,8,9,10,11,12,13,14,15}\n",
    "print(set2)"
   ]
  },
  {
   "cell_type": "code",
   "execution_count": null,
   "metadata": {},
   "outputs": [],
   "source": [
    "# a. Find the common elements in above 2 sets\n",
    "# we can use '&' (and) for intersection and '|' (or) for union between 2 sets\n",
    "set3 = set1 & set2 \n",
    "print(set3)"
   ]
  },
  {
   "cell_type": "code",
   "execution_count": null,
   "metadata": {},
   "outputs": [],
   "source": [
    "# b. Find the elements that are not common\n",
    "set4 = set()\n",
    "for i in set1:\n",
    "    if i not in set2:\n",
    "        set4.add(i)\n",
    "for j in set2:\n",
    "    if j not in set1:\n",
    "        set4.add(j)\n",
    "print(set4)"
   ]
  },
  {
   "cell_type": "code",
   "execution_count": null,
   "metadata": {},
   "outputs": [],
   "source": [
    "# c. Remove element 7 from both the sets\n",
    "set1.remove(7)\n",
    "set2.remove(7)\n",
    "print(set1)\n",
    "print(\"___________\")\n",
    "print(set2)"
   ]
  },
  {
   "cell_type": "markdown",
   "metadata": {},
   "source": [
    "## Problem3"
   ]
  },
  {
   "cell_type": "markdown",
   "metadata": {},
   "source": [
    "#### Create a data dictionary of 5 states having name as key and number of covid-19 cases as values.\n",
    "#### a. Print only state names from the dictionary\n",
    "#### b. Update the dictionary with another country and it’s covid-19 cases"
   ]
  },
  {
   "cell_type": "code",
   "execution_count": null,
   "metadata": {},
   "outputs": [],
   "source": [
    "states = {\"maharashtra\":4000, 'bihar':3000, 'rajasthan':2000, 'kerala':5000, 'punjab':1500}\n",
    "print(states)"
   ]
  },
  {
   "cell_type": "code",
   "execution_count": null,
   "metadata": {},
   "outputs": [],
   "source": [
    "# a. Print only state names from the dictionary\n",
    "states.keys()"
   ]
  },
  {
   "cell_type": "code",
   "execution_count": null,
   "metadata": {},
   "outputs": [],
   "source": [
    "# b. Update the dictionary with another country and it’s covid-19 cases\n",
    "states['Assam'] = 1000\n",
    "print(states)"
   ]
  }
 ],
 "metadata": {
  "kernelspec": {
   "display_name": "Python 3 (ipykernel)",
   "language": "python",
   "name": "python3"
  },
  "language_info": {
   "codemirror_mode": {
    "name": "ipython",
    "version": 3
   },
   "file_extension": ".py",
   "mimetype": "text/x-python",
   "name": "python",
   "nbconvert_exporter": "python",
   "pygments_lexer": "ipython3",
   "version": "3.9.7"
  }
 },
 "nbformat": 4,
 "nbformat_minor": 2
}
