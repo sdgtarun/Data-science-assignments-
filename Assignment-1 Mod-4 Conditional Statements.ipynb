{
 "cells": [
  {
   "cell_type": "markdown",
   "metadata": {},
   "source": [
    "# Module4: Conditional Statements"
   ]
  },
  {
   "cell_type": "markdown",
   "metadata": {},
   "source": [
    "#### 1.\tTake a variable ‘age’ which is of positive value and check the following:\n",
    "    #### a. if a is less than 20 print \"children\"\n",
    "    #### b. if age is more than 60, print \"senior citizen\"\n",
    "    #### c. if it is in between 10 to 60, print \"citizen\""
   ]
  },
  {
   "cell_type": "code",
   "execution_count": null,
   "metadata": {},
   "outputs": [],
   "source": [
    "age = int(input())\n",
    "if age < 10: # if age is less than 10\n",
    "    print(\"children\")\n",
    "elif age > 60:  # if age is greater than 60\n",
    "    print(\"senior citizens\")\n",
    "else:\n",
    "    print(\"normal citizens\")"
   ]
  },
  {
   "cell_type": "markdown",
   "metadata": {},
   "source": [
    "#### 2.\tFind the final train ticket price with the following conditions.\n",
    "    #### a. If male and sr. citizen, 70% of fare is applicable\n",
    "    #### b. If female and sr. citizen, 50% of fare is applicable\n",
    "    #### c. If female and citizen, 70% of fare is applicable\n",
    "    #### d. If male and citizen, 100% of fare is applicable\n",
    "\n",
    "[Hint: First check for the gender, then calculate the fare based on age factor.\n",
    "For both Male and Female, consider them as sr.citizens if the age >= 60]"
   ]
  },
  {
   "cell_type": "code",
   "execution_count": null,
   "metadata": {},
   "outputs": [],
   "source": [
    "age = int(input())\n",
    "gender = input()\n",
    "if age > 60 and gender == 'male':\n",
    "    print(\"70% of fare is applicable\")\n",
    "elif age > 60 and gender == 'female':\n",
    "    print(\"50% of fare is applicable\")\n",
    "elif (age > 10 and age < 60) and gender == 'female':\n",
    "    print(\"70% of fare is applicable\")\n",
    "elif (age > 10 and age < 60) and gender == 'male':\n",
    "    print(\"100% of fare is applicable\")"
   ]
  },
  {
   "cell_type": "markdown",
   "metadata": {},
   "source": [
    "#### 3.\tCheck whether the given number is positive and divisible by 5 or not."
   ]
  },
  {
   "cell_type": "code",
   "execution_count": null,
   "metadata": {},
   "outputs": [],
   "source": [
    "a = int(input(\"Enter the number:\"))\n",
    "if a > 0 and a % 5 == 0:\n",
    "    print(\"number is positive and divisible by 5\")\n",
    "elif a < 0 and a % 5 == 0:\n",
    "    print(\"number is negative and divisible by 5\")\n",
    "elif a > 0 and a % 5 != 0:\n",
    "    print(\"number is postive and not divisible by 5\")\n",
    "elif a < 0 and a % 5 != 0:\n",
    "    print(\"number is negative and not divisible by 5\")"
   ]
  }
 ],
 "metadata": {
  "kernelspec": {
   "display_name": "Python 3",
   "language": "python",
   "name": "python3"
  },
  "language_info": {
   "codemirror_mode": {
    "name": "ipython",
    "version": 3
   },
   "file_extension": ".py",
   "mimetype": "text/x-python",
   "name": "python",
   "nbconvert_exporter": "python",
   "pygments_lexer": "ipython3",
   "version": "3.8.8"
  }
 },
 "nbformat": 4,
 "nbformat_minor": 2
}
